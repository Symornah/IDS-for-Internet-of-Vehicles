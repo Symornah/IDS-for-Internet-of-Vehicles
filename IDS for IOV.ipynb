{
  "cells": [
    {
      "cell_type": "code",
      "execution_count": null,
      "metadata": {
        "id": "ZGc97nFSxQd_"
      },
      "outputs": [],
      "source": [
        "import numpy as np\n",
        "import pandas as pd\n",
        "import os\n",
        "import cv2\n",
        "import math\n",
        "import random\n",
        "import matplotlib.pyplot as plt\n",
        "import shutil\n",
        "from sklearn.preprocessing import QuantileTransformer\n",
        "from PIL import Image\n",
        "import warnings\n",
        "import warnings\n",
        "warnings.filterwarnings(\"ignore\")\n",
        "import keras\n",
        "from keras.models import Model,load_model\n",
        "from keras import Input\n",
        "from keras.layers import concatenate,Dense,Flatten,Dropout\n",
        "from keras.preprocessing.image import  ImageDataGenerator\n",
        "import keras.callbacks as kcallbacks\n",
        "import os\n",
        "import math\n",
        "from keras.utils import plot_model\n",
        "from keras.callbacks import EarlyStopping, ReduceLROnPlateau, ModelCheckpoint, LearningRateScheduler\n",
        "from keras.optimizers import SGD\n",
        "import operator\n",
        "import numpy as np\n",
        "from PIL import Image\n",
        "from collections import defaultdict\n"
      ]
    },
    {
      "cell_type": "code",
      "execution_count": null,
      "metadata": {
        "colab": {
          "base_uri": "https://localhost:8080/"
        },
        "id": "wrRhKBa-xmIA",
        "outputId": "20ae1a39-b856-4630-de22-3e3702433c3d"
      },
      "outputs": [
        {
          "output_type": "stream",
          "name": "stdout",
          "text": [
            "Mounted at /gdrive\n"
          ]
        }
      ],
      "source": [
        "from google.colab import drive\n",
        "drive.mount('/gdrive')"
      ]
    },
    {
      "cell_type": "code",
      "execution_count": null,
      "metadata": {
        "id": "YpjEXfL5zNgs"
      },
      "outputs": [],
      "source": [
        "#Read dataset\n",
        "df=pd.read_csv('/gdrive/My Drive/Car_Hacking_5%.csv')\n"
      ]
    },
    {
      "cell_type": "code",
      "execution_count": null,
      "metadata": {
        "colab": {
          "base_uri": "https://localhost:8080/",
          "height": 206
        },
        "id": "Y30GcGkazpLx",
        "outputId": "ee5a01fb-41bc-4a8a-8695-c58d13f1e141"
      },
      "outputs": [
        {
          "output_type": "execute_result",
          "data": {
            "text/plain": [
              "   CAN ID  DATA[0]  DATA[1]  DATA[2]  DATA[3]  DATA[4]  DATA[5]  DATA[6]  \\\n",
              "0    1201       41       39       39       35        0        0        0   \n",
              "1     809       64      187      127       20       17       32        0   \n",
              "2    1349      216        0        0      136        0        0        0   \n",
              "3    1201       41       39       39       35        0        0        0   \n",
              "4       2        0        0        0        0        0        3        2   \n",
              "\n",
              "   DATA[7] Label  \n",
              "0      154     R  \n",
              "1       20     R  \n",
              "2        0     R  \n",
              "3      154     R  \n",
              "4      228     R  "
            ],
            "text/html": [
              "\n",
              "  <div id=\"df-4fcf34ca-74c4-4baa-852f-c209b9e954a5\">\n",
              "    <div class=\"colab-df-container\">\n",
              "      <div>\n",
              "<style scoped>\n",
              "    .dataframe tbody tr th:only-of-type {\n",
              "        vertical-align: middle;\n",
              "    }\n",
              "\n",
              "    .dataframe tbody tr th {\n",
              "        vertical-align: top;\n",
              "    }\n",
              "\n",
              "    .dataframe thead th {\n",
              "        text-align: right;\n",
              "    }\n",
              "</style>\n",
              "<table border=\"1\" class=\"dataframe\">\n",
              "  <thead>\n",
              "    <tr style=\"text-align: right;\">\n",
              "      <th></th>\n",
              "      <th>CAN ID</th>\n",
              "      <th>DATA[0]</th>\n",
              "      <th>DATA[1]</th>\n",
              "      <th>DATA[2]</th>\n",
              "      <th>DATA[3]</th>\n",
              "      <th>DATA[4]</th>\n",
              "      <th>DATA[5]</th>\n",
              "      <th>DATA[6]</th>\n",
              "      <th>DATA[7]</th>\n",
              "      <th>Label</th>\n",
              "    </tr>\n",
              "  </thead>\n",
              "  <tbody>\n",
              "    <tr>\n",
              "      <th>0</th>\n",
              "      <td>1201</td>\n",
              "      <td>41</td>\n",
              "      <td>39</td>\n",
              "      <td>39</td>\n",
              "      <td>35</td>\n",
              "      <td>0</td>\n",
              "      <td>0</td>\n",
              "      <td>0</td>\n",
              "      <td>154</td>\n",
              "      <td>R</td>\n",
              "    </tr>\n",
              "    <tr>\n",
              "      <th>1</th>\n",
              "      <td>809</td>\n",
              "      <td>64</td>\n",
              "      <td>187</td>\n",
              "      <td>127</td>\n",
              "      <td>20</td>\n",
              "      <td>17</td>\n",
              "      <td>32</td>\n",
              "      <td>0</td>\n",
              "      <td>20</td>\n",
              "      <td>R</td>\n",
              "    </tr>\n",
              "    <tr>\n",
              "      <th>2</th>\n",
              "      <td>1349</td>\n",
              "      <td>216</td>\n",
              "      <td>0</td>\n",
              "      <td>0</td>\n",
              "      <td>136</td>\n",
              "      <td>0</td>\n",
              "      <td>0</td>\n",
              "      <td>0</td>\n",
              "      <td>0</td>\n",
              "      <td>R</td>\n",
              "    </tr>\n",
              "    <tr>\n",
              "      <th>3</th>\n",
              "      <td>1201</td>\n",
              "      <td>41</td>\n",
              "      <td>39</td>\n",
              "      <td>39</td>\n",
              "      <td>35</td>\n",
              "      <td>0</td>\n",
              "      <td>0</td>\n",
              "      <td>0</td>\n",
              "      <td>154</td>\n",
              "      <td>R</td>\n",
              "    </tr>\n",
              "    <tr>\n",
              "      <th>4</th>\n",
              "      <td>2</td>\n",
              "      <td>0</td>\n",
              "      <td>0</td>\n",
              "      <td>0</td>\n",
              "      <td>0</td>\n",
              "      <td>0</td>\n",
              "      <td>3</td>\n",
              "      <td>2</td>\n",
              "      <td>228</td>\n",
              "      <td>R</td>\n",
              "    </tr>\n",
              "  </tbody>\n",
              "</table>\n",
              "</div>\n",
              "      <button class=\"colab-df-convert\" onclick=\"convertToInteractive('df-4fcf34ca-74c4-4baa-852f-c209b9e954a5')\"\n",
              "              title=\"Convert this dataframe to an interactive table.\"\n",
              "              style=\"display:none;\">\n",
              "        \n",
              "  <svg xmlns=\"http://www.w3.org/2000/svg\" height=\"24px\"viewBox=\"0 0 24 24\"\n",
              "       width=\"24px\">\n",
              "    <path d=\"M0 0h24v24H0V0z\" fill=\"none\"/>\n",
              "    <path d=\"M18.56 5.44l.94 2.06.94-2.06 2.06-.94-2.06-.94-.94-2.06-.94 2.06-2.06.94zm-11 1L8.5 8.5l.94-2.06 2.06-.94-2.06-.94L8.5 2.5l-.94 2.06-2.06.94zm10 10l.94 2.06.94-2.06 2.06-.94-2.06-.94-.94-2.06-.94 2.06-2.06.94z\"/><path d=\"M17.41 7.96l-1.37-1.37c-.4-.4-.92-.59-1.43-.59-.52 0-1.04.2-1.43.59L10.3 9.45l-7.72 7.72c-.78.78-.78 2.05 0 2.83L4 21.41c.39.39.9.59 1.41.59.51 0 1.02-.2 1.41-.59l7.78-7.78 2.81-2.81c.8-.78.8-2.07 0-2.86zM5.41 20L4 18.59l7.72-7.72 1.47 1.35L5.41 20z\"/>\n",
              "  </svg>\n",
              "      </button>\n",
              "      \n",
              "  <style>\n",
              "    .colab-df-container {\n",
              "      display:flex;\n",
              "      flex-wrap:wrap;\n",
              "      gap: 12px;\n",
              "    }\n",
              "\n",
              "    .colab-df-convert {\n",
              "      background-color: #E8F0FE;\n",
              "      border: none;\n",
              "      border-radius: 50%;\n",
              "      cursor: pointer;\n",
              "      display: none;\n",
              "      fill: #1967D2;\n",
              "      height: 32px;\n",
              "      padding: 0 0 0 0;\n",
              "      width: 32px;\n",
              "    }\n",
              "\n",
              "    .colab-df-convert:hover {\n",
              "      background-color: #E2EBFA;\n",
              "      box-shadow: 0px 1px 2px rgba(60, 64, 67, 0.3), 0px 1px 3px 1px rgba(60, 64, 67, 0.15);\n",
              "      fill: #174EA6;\n",
              "    }\n",
              "\n",
              "    [theme=dark] .colab-df-convert {\n",
              "      background-color: #3B4455;\n",
              "      fill: #D2E3FC;\n",
              "    }\n",
              "\n",
              "    [theme=dark] .colab-df-convert:hover {\n",
              "      background-color: #434B5C;\n",
              "      box-shadow: 0px 1px 3px 1px rgba(0, 0, 0, 0.15);\n",
              "      filter: drop-shadow(0px 1px 2px rgba(0, 0, 0, 0.3));\n",
              "      fill: #FFFFFF;\n",
              "    }\n",
              "  </style>\n",
              "\n",
              "      <script>\n",
              "        const buttonEl =\n",
              "          document.querySelector('#df-4fcf34ca-74c4-4baa-852f-c209b9e954a5 button.colab-df-convert');\n",
              "        buttonEl.style.display =\n",
              "          google.colab.kernel.accessAllowed ? 'block' : 'none';\n",
              "\n",
              "        async function convertToInteractive(key) {\n",
              "          const element = document.querySelector('#df-4fcf34ca-74c4-4baa-852f-c209b9e954a5');\n",
              "          const dataTable =\n",
              "            await google.colab.kernel.invokeFunction('convertToInteractive',\n",
              "                                                     [key], {});\n",
              "          if (!dataTable) return;\n",
              "\n",
              "          const docLinkHtml = 'Like what you see? Visit the ' +\n",
              "            '<a target=\"_blank\" href=https://colab.research.google.com/notebooks/data_table.ipynb>data table notebook</a>'\n",
              "            + ' to learn more about interactive tables.';\n",
              "          element.innerHTML = '';\n",
              "          dataTable['output_type'] = 'display_data';\n",
              "          await google.colab.output.renderOutput(dataTable, element);\n",
              "          const docLink = document.createElement('div');\n",
              "          docLink.innerHTML = docLinkHtml;\n",
              "          element.appendChild(docLink);\n",
              "        }\n",
              "      </script>\n",
              "    </div>\n",
              "  </div>\n",
              "  "
            ]
          },
          "metadata": {},
          "execution_count": 4
        }
      ],
      "source": [
        "df.head()"
      ]
    },
    {
      "cell_type": "code",
      "execution_count": null,
      "metadata": {
        "colab": {
          "base_uri": "https://localhost:8080/"
        },
        "id": "QHxpPg4Y0GCJ",
        "outputId": "e75368eb-793d-4343-8ef5-fe0adce7d796"
      },
      "outputs": [
        {
          "output_type": "execute_result",
          "data": {
            "text/plain": [
              "R        701832\n",
              "RPM       32539\n",
              "gear      29944\n",
              "DoS       29501\n",
              "Fuzzy     24624\n",
              "Name: Label, dtype: int64"
            ]
          },
          "metadata": {},
          "execution_count": 5
        }
      ],
      "source": [
        "# The labels of the dataset. \"R\" indicates normal patterns, and there are four types of attack (DoS, fuzzy. gear spoofing, and RPM spoofing zttacks)\n",
        "df.Label.value_counts()"
      ]
    },
    {
      "cell_type": "code",
      "execution_count": null,
      "metadata": {
        "id": "lUmDqIJL1wG1"
      },
      "outputs": [],
      "source": [
        "# Transform all features into the scale of [0,1]\n",
        "numeric_features = df.dtypes[df.dtypes != 'object'].index\n",
        "scaler = QuantileTransformer() \n",
        "df[numeric_features] = scaler.fit_transform(df[numeric_features])"
      ]
    },
    {
      "cell_type": "code",
      "execution_count": null,
      "metadata": {
        "id": "3rxRKlz_1xfI"
      },
      "outputs": [],
      "source": [
        "# Multiply the feature values by 255 to transform them into the scale of [0,255]\n",
        "df[numeric_features] = df[numeric_features].apply(\n",
        "    lambda x: (x*255))"
      ]
    },
    {
      "cell_type": "code",
      "execution_count": null,
      "metadata": {
        "colab": {
          "base_uri": "https://localhost:8080/",
          "height": 364
        },
        "id": "IIM8qGJW1yze",
        "outputId": "ed839ea4-bab3-4100-8a2a-61e3c5bb5c1d"
      },
      "outputs": [
        {
          "output_type": "execute_result",
          "data": {
            "text/plain": [
              "              CAN ID        DATA[0]        DATA[1]        DATA[2]  \\\n",
              "count  818440.000000  818440.000000  818440.000000  818440.000000   \n",
              "mean      127.706811     112.885866     107.076923      89.620525   \n",
              "std        74.116732      89.553763      92.815842     100.663848   \n",
              "min         0.000000       0.000000       0.000000       0.000000   \n",
              "25%        66.238739       0.000000       0.000000       0.000000   \n",
              "50%       122.012012     124.436937     114.354354       0.000000   \n",
              "75%       190.548048     190.930931     191.186186     199.099099   \n",
              "max       255.000000     255.000000     255.000000     255.000000   \n",
              "\n",
              "             DATA[3]        DATA[4]        DATA[5]        DATA[6]  \\\n",
              "count  818440.000000  818440.000000  818440.000000  818440.000000   \n",
              "mean      109.998453     105.353288     112.507058      85.107282   \n",
              "std       103.710790      95.653029      91.192912     101.494920   \n",
              "min         0.000000       0.000000       0.000000       0.000000   \n",
              "25%         0.000000       0.000000       0.000000       0.000000   \n",
              "50%       130.307808     125.585586     130.180180       0.000000   \n",
              "75%       191.951952     192.972973     189.909910     192.972973   \n",
              "max       255.000000     255.000000     255.000000     255.000000   \n",
              "\n",
              "             DATA[7]  \n",
              "count  818440.000000  \n",
              "mean       93.027146  \n",
              "std       100.165454  \n",
              "min         0.000000  \n",
              "25%         0.000000  \n",
              "50%         0.000000  \n",
              "75%       191.058559  \n",
              "max       255.000000  "
            ],
            "text/html": [
              "\n",
              "  <div id=\"df-d1198fc1-2217-4dca-8e78-f8aaedb35d7d\">\n",
              "    <div class=\"colab-df-container\">\n",
              "      <div>\n",
              "<style scoped>\n",
              "    .dataframe tbody tr th:only-of-type {\n",
              "        vertical-align: middle;\n",
              "    }\n",
              "\n",
              "    .dataframe tbody tr th {\n",
              "        vertical-align: top;\n",
              "    }\n",
              "\n",
              "    .dataframe thead th {\n",
              "        text-align: right;\n",
              "    }\n",
              "</style>\n",
              "<table border=\"1\" class=\"dataframe\">\n",
              "  <thead>\n",
              "    <tr style=\"text-align: right;\">\n",
              "      <th></th>\n",
              "      <th>CAN ID</th>\n",
              "      <th>DATA[0]</th>\n",
              "      <th>DATA[1]</th>\n",
              "      <th>DATA[2]</th>\n",
              "      <th>DATA[3]</th>\n",
              "      <th>DATA[4]</th>\n",
              "      <th>DATA[5]</th>\n",
              "      <th>DATA[6]</th>\n",
              "      <th>DATA[7]</th>\n",
              "    </tr>\n",
              "  </thead>\n",
              "  <tbody>\n",
              "    <tr>\n",
              "      <th>count</th>\n",
              "      <td>818440.000000</td>\n",
              "      <td>818440.000000</td>\n",
              "      <td>818440.000000</td>\n",
              "      <td>818440.000000</td>\n",
              "      <td>818440.000000</td>\n",
              "      <td>818440.000000</td>\n",
              "      <td>818440.000000</td>\n",
              "      <td>818440.000000</td>\n",
              "      <td>818440.000000</td>\n",
              "    </tr>\n",
              "    <tr>\n",
              "      <th>mean</th>\n",
              "      <td>127.706811</td>\n",
              "      <td>112.885866</td>\n",
              "      <td>107.076923</td>\n",
              "      <td>89.620525</td>\n",
              "      <td>109.998453</td>\n",
              "      <td>105.353288</td>\n",
              "      <td>112.507058</td>\n",
              "      <td>85.107282</td>\n",
              "      <td>93.027146</td>\n",
              "    </tr>\n",
              "    <tr>\n",
              "      <th>std</th>\n",
              "      <td>74.116732</td>\n",
              "      <td>89.553763</td>\n",
              "      <td>92.815842</td>\n",
              "      <td>100.663848</td>\n",
              "      <td>103.710790</td>\n",
              "      <td>95.653029</td>\n",
              "      <td>91.192912</td>\n",
              "      <td>101.494920</td>\n",
              "      <td>100.165454</td>\n",
              "    </tr>\n",
              "    <tr>\n",
              "      <th>min</th>\n",
              "      <td>0.000000</td>\n",
              "      <td>0.000000</td>\n",
              "      <td>0.000000</td>\n",
              "      <td>0.000000</td>\n",
              "      <td>0.000000</td>\n",
              "      <td>0.000000</td>\n",
              "      <td>0.000000</td>\n",
              "      <td>0.000000</td>\n",
              "      <td>0.000000</td>\n",
              "    </tr>\n",
              "    <tr>\n",
              "      <th>25%</th>\n",
              "      <td>66.238739</td>\n",
              "      <td>0.000000</td>\n",
              "      <td>0.000000</td>\n",
              "      <td>0.000000</td>\n",
              "      <td>0.000000</td>\n",
              "      <td>0.000000</td>\n",
              "      <td>0.000000</td>\n",
              "      <td>0.000000</td>\n",
              "      <td>0.000000</td>\n",
              "    </tr>\n",
              "    <tr>\n",
              "      <th>50%</th>\n",
              "      <td>122.012012</td>\n",
              "      <td>124.436937</td>\n",
              "      <td>114.354354</td>\n",
              "      <td>0.000000</td>\n",
              "      <td>130.307808</td>\n",
              "      <td>125.585586</td>\n",
              "      <td>130.180180</td>\n",
              "      <td>0.000000</td>\n",
              "      <td>0.000000</td>\n",
              "    </tr>\n",
              "    <tr>\n",
              "      <th>75%</th>\n",
              "      <td>190.548048</td>\n",
              "      <td>190.930931</td>\n",
              "      <td>191.186186</td>\n",
              "      <td>199.099099</td>\n",
              "      <td>191.951952</td>\n",
              "      <td>192.972973</td>\n",
              "      <td>189.909910</td>\n",
              "      <td>192.972973</td>\n",
              "      <td>191.058559</td>\n",
              "    </tr>\n",
              "    <tr>\n",
              "      <th>max</th>\n",
              "      <td>255.000000</td>\n",
              "      <td>255.000000</td>\n",
              "      <td>255.000000</td>\n",
              "      <td>255.000000</td>\n",
              "      <td>255.000000</td>\n",
              "      <td>255.000000</td>\n",
              "      <td>255.000000</td>\n",
              "      <td>255.000000</td>\n",
              "      <td>255.000000</td>\n",
              "    </tr>\n",
              "  </tbody>\n",
              "</table>\n",
              "</div>\n",
              "      <button class=\"colab-df-convert\" onclick=\"convertToInteractive('df-d1198fc1-2217-4dca-8e78-f8aaedb35d7d')\"\n",
              "              title=\"Convert this dataframe to an interactive table.\"\n",
              "              style=\"display:none;\">\n",
              "        \n",
              "  <svg xmlns=\"http://www.w3.org/2000/svg\" height=\"24px\"viewBox=\"0 0 24 24\"\n",
              "       width=\"24px\">\n",
              "    <path d=\"M0 0h24v24H0V0z\" fill=\"none\"/>\n",
              "    <path d=\"M18.56 5.44l.94 2.06.94-2.06 2.06-.94-2.06-.94-.94-2.06-.94 2.06-2.06.94zm-11 1L8.5 8.5l.94-2.06 2.06-.94-2.06-.94L8.5 2.5l-.94 2.06-2.06.94zm10 10l.94 2.06.94-2.06 2.06-.94-2.06-.94-.94-2.06-.94 2.06-2.06.94z\"/><path d=\"M17.41 7.96l-1.37-1.37c-.4-.4-.92-.59-1.43-.59-.52 0-1.04.2-1.43.59L10.3 9.45l-7.72 7.72c-.78.78-.78 2.05 0 2.83L4 21.41c.39.39.9.59 1.41.59.51 0 1.02-.2 1.41-.59l7.78-7.78 2.81-2.81c.8-.78.8-2.07 0-2.86zM5.41 20L4 18.59l7.72-7.72 1.47 1.35L5.41 20z\"/>\n",
              "  </svg>\n",
              "      </button>\n",
              "      \n",
              "  <style>\n",
              "    .colab-df-container {\n",
              "      display:flex;\n",
              "      flex-wrap:wrap;\n",
              "      gap: 12px;\n",
              "    }\n",
              "\n",
              "    .colab-df-convert {\n",
              "      background-color: #E8F0FE;\n",
              "      border: none;\n",
              "      border-radius: 50%;\n",
              "      cursor: pointer;\n",
              "      display: none;\n",
              "      fill: #1967D2;\n",
              "      height: 32px;\n",
              "      padding: 0 0 0 0;\n",
              "      width: 32px;\n",
              "    }\n",
              "\n",
              "    .colab-df-convert:hover {\n",
              "      background-color: #E2EBFA;\n",
              "      box-shadow: 0px 1px 2px rgba(60, 64, 67, 0.3), 0px 1px 3px 1px rgba(60, 64, 67, 0.15);\n",
              "      fill: #174EA6;\n",
              "    }\n",
              "\n",
              "    [theme=dark] .colab-df-convert {\n",
              "      background-color: #3B4455;\n",
              "      fill: #D2E3FC;\n",
              "    }\n",
              "\n",
              "    [theme=dark] .colab-df-convert:hover {\n",
              "      background-color: #434B5C;\n",
              "      box-shadow: 0px 1px 3px 1px rgba(0, 0, 0, 0.15);\n",
              "      filter: drop-shadow(0px 1px 2px rgba(0, 0, 0, 0.3));\n",
              "      fill: #FFFFFF;\n",
              "    }\n",
              "  </style>\n",
              "\n",
              "      <script>\n",
              "        const buttonEl =\n",
              "          document.querySelector('#df-d1198fc1-2217-4dca-8e78-f8aaedb35d7d button.colab-df-convert');\n",
              "        buttonEl.style.display =\n",
              "          google.colab.kernel.accessAllowed ? 'block' : 'none';\n",
              "\n",
              "        async function convertToInteractive(key) {\n",
              "          const element = document.querySelector('#df-d1198fc1-2217-4dca-8e78-f8aaedb35d7d');\n",
              "          const dataTable =\n",
              "            await google.colab.kernel.invokeFunction('convertToInteractive',\n",
              "                                                     [key], {});\n",
              "          if (!dataTable) return;\n",
              "\n",
              "          const docLinkHtml = 'Like what you see? Visit the ' +\n",
              "            '<a target=\"_blank\" href=https://colab.research.google.com/notebooks/data_table.ipynb>data table notebook</a>'\n",
              "            + ' to learn more about interactive tables.';\n",
              "          element.innerHTML = '';\n",
              "          dataTable['output_type'] = 'display_data';\n",
              "          await google.colab.output.renderOutput(dataTable, element);\n",
              "          const docLink = document.createElement('div');\n",
              "          docLink.innerHTML = docLinkHtml;\n",
              "          element.appendChild(docLink);\n",
              "        }\n",
              "      </script>\n",
              "    </div>\n",
              "  </div>\n",
              "  "
            ]
          },
          "metadata": {},
          "execution_count": 8
        }
      ],
      "source": [
        "df.describe()"
      ]
    },
    {
      "cell_type": "code",
      "execution_count": null,
      "metadata": {
        "id": "yJeLSK2H11DV"
      },
      "outputs": [],
      "source": [
        "df0=df[df['Label']=='R'].drop(['Label'],axis=1)\n",
        "df1=df[df['Label']=='RPM'].drop(['Label'],axis=1)\n",
        "df2=df[df['Label']=='gear'].drop(['Label'],axis=1)\n",
        "df3=df[df['Label']=='DoS'].drop(['Label'],axis=1)\n",
        "df4=df[df['Label']=='Fuzzy'].drop(['Label'],axis=1)"
      ]
    },
    {
      "cell_type": "code",
      "execution_count": null,
      "metadata": {
        "id": "2EALEx4h12Y_"
      },
      "outputs": [],
      "source": [
        "# Generate 9*9 color images for class 0 (Normal)\n",
        "# Change the numbers 9 to the number of features n in your dataset if you use a different dataset, reshape(n,n,3)\n",
        "count=0\n",
        "ims = []\n",
        "\n",
        "image_path = \"train/0/\"\n",
        "os.makedirs(image_path)\n",
        "\n",
        "for i in range(0, len(df0)):  \n",
        "    count=count+1\n",
        "    if count<=27: \n",
        "        im=df0.iloc[i].values\n",
        "        ims=np.append(ims,im)\n",
        "    else:\n",
        "        ims=np.array(ims).reshape(9,9,3)\n",
        "        array = np.array(ims, dtype=np.uint8)\n",
        "        new_image = Image.fromarray(array)\n",
        "        new_image.save(image_path+str(i)+'.png')\n",
        "        count=0\n",
        "        ims = []"
      ]
    },
    {
      "cell_type": "code",
      "execution_count": null,
      "metadata": {
        "id": "AOeQ7n4Z13ls"
      },
      "outputs": [],
      "source": [
        "# Generate 9*9 color images for class 1 (RPM spoofing)\n",
        "count=0\n",
        "ims = []\n",
        "\n",
        "image_path = \"train/1/\"\n",
        "os.makedirs(image_path)\n",
        "\n",
        "for i in range(0, len(df1)):  \n",
        "    count=count+1\n",
        "    if count<=27: \n",
        "        im=df1.iloc[i].values\n",
        "        ims=np.append(ims,im)\n",
        "    else:\n",
        "        ims=np.array(ims).reshape(9,9,3)\n",
        "        array = np.array(ims, dtype=np.uint8)\n",
        "        new_image = Image.fromarray(array)\n",
        "        new_image.save(image_path+str(i)+'.png')\n",
        "        count=0\n",
        "        ims = []"
      ]
    },
    {
      "cell_type": "code",
      "execution_count": null,
      "metadata": {
        "id": "eOLOPQaq142w"
      },
      "outputs": [],
      "source": [
        "# Generate 9*9 color images for class 2 (Gear spoofing)\n",
        "count=0\n",
        "ims = []\n",
        "\n",
        "image_path = \"train/2/\"\n",
        "os.makedirs(image_path)\n",
        "\n",
        "for i in range(0, len(df2)):  \n",
        "    count=count+1\n",
        "    if count<=27: \n",
        "        im=df2.iloc[i].values\n",
        "        ims=np.append(ims,im)\n",
        "    else:\n",
        "        ims=np.array(ims).reshape(9,9,3)\n",
        "        array = np.array(ims, dtype=np.uint8)\n",
        "        new_image = Image.fromarray(array)\n",
        "        new_image.save(image_path+str(i)+'.png')\n",
        "        count=0\n",
        "        ims = []"
      ]
    },
    {
      "cell_type": "code",
      "execution_count": null,
      "metadata": {
        "id": "5c__fBJB15-5"
      },
      "outputs": [],
      "source": [
        "# Generate 9*9 color images for class 3 (DoS attack)\n",
        "count=0\n",
        "ims = []\n",
        "\n",
        "image_path = \"train/3/\"\n",
        "os.makedirs(image_path)\n",
        "\n",
        "\n",
        "for i in range(0, len(df3)):  \n",
        "    count=count+1\n",
        "    if count<=27: \n",
        "        im=df3.iloc[i].values\n",
        "        ims=np.append(ims,im)\n",
        "    else:\n",
        "        ims=np.array(ims).reshape(9,9,3)\n",
        "        array = np.array(ims, dtype=np.uint8)\n",
        "        new_image = Image.fromarray(array)\n",
        "        new_image.save(image_path+str(i)+'.png')\n",
        "        count=0\n",
        "        ims = []"
      ]
    },
    {
      "cell_type": "code",
      "execution_count": null,
      "metadata": {
        "id": "kXMOqPMt171n"
      },
      "outputs": [],
      "source": [
        "# Generate 9*9 color images for class 4 (Fuzzy attack)\n",
        "count=0\n",
        "ims = []\n",
        "\n",
        "image_path = \"train/4/\"\n",
        "os.makedirs(image_path)\n",
        "\n",
        "\n",
        "for i in range(0, len(df4)):  \n",
        "    count=count+1\n",
        "    if count<=27: \n",
        "        im=df4.iloc[i].values\n",
        "        ims=np.append(ims,im)\n",
        "    else:\n",
        "        ims=np.array(ims).reshape(9,9,3)\n",
        "        array = np.array(ims, dtype=np.uint8)\n",
        "        new_image = Image.fromarray(array)\n",
        "        new_image.save(image_path+str(i)+'.png')\n",
        "        count=0\n",
        "        ims = []"
      ]
    },
    {
      "cell_type": "code",
      "execution_count": null,
      "metadata": {
        "colab": {
          "base_uri": "https://localhost:8080/",
          "height": 216
        },
        "id": "uZPidA5419SE",
        "outputId": "76858d22-653d-4ec5-9bff-75a32f43ad89"
      },
      "outputs": [
        {
          "output_type": "display_data",
          "data": {
            "text/plain": [
              "<Figure size 1000x1000 with 5 Axes>"
            ],
            "image/png": "[encoded data removed]"
          },
          "metadata": {}
        }
      ],
      "source": [
        "# Read the images for each category, the file name may vary (27.png, 83.png...)\n",
        "img1 = Image.open('./train/0/109227.png')\n",
        "img2 = Image.open('./train/1/83.png')\n",
        "img3 = Image.open('./train/2/27.png')\n",
        "img4 = Image.open('./train/3/27.png')\n",
        "img5 = Image.open('./train/4/27.png')\n",
        "\n",
        "plt.figure(figsize=(10, 10)) \n",
        "plt.subplot(1,5,1)\n",
        "plt.imshow(img1)\n",
        "plt.title(\"Normal\")\n",
        "plt.subplot(1,5,2)\n",
        "plt.imshow(img2)\n",
        "plt.title(\"RPM Spoofing\")\n",
        "plt.subplot(1,5,3)\n",
        "plt.imshow(img3)\n",
        "plt.title(\"Gear Spoofing\")\n",
        "plt.subplot(1,5,4)\n",
        "plt.imshow(img4)\n",
        "plt.title(\"DoS Attack\")\n",
        "plt.subplot(1,5,5)\n",
        "plt.imshow(img5)\n",
        "plt.title(\"Fuzzy Attack\")\n",
        "plt.show()  # display it"
      ]
    },
    {
      "cell_type": "code",
      "execution_count": null,
      "metadata": {
        "colab": {
          "base_uri": "https://localhost:8080/"
        },
        "id": "VzydL7uf1-68",
        "outputId": "eb295dcd-2620-4335-8da5-8af88d7c314b"
      },
      "outputs": [
        {
          "output_type": "stream",
          "name": "stdout",
          "text": [
            "29228\n"
          ]
        }
      ],
      "source": [
        "# Create folders to store images\n",
        "Train_Dir='./train/'\n",
        "Val_Dir='./test/'\n",
        "allimgs=[]\n",
        "for subdir in os.listdir(Train_Dir):\n",
        "    for filename in os.listdir(os.path.join(Train_Dir,subdir)):\n",
        "        filepath=os.path.join(Train_Dir,subdir,filename)\n",
        "        allimgs.append(filepath)\n",
        "print(len(allimgs)) # Print the total number of images"
      ]
    },
    {
      "cell_type": "code",
      "execution_count": null,
      "metadata": {
        "id": "Q1LSm9Rl2Afg"
      },
      "outputs": [],
      "source": [
        "#split a test set from the dataset, train/test size = 80%/20%\n",
        "Numbers=len(allimgs)//5 \t#size of test set (20%)\n",
        "\n",
        "def mymovefile(srcfile,dstfile):\n",
        "    if not os.path.isfile(srcfile):\n",
        "        print (\"%s not exist!\"%(srcfile))\n",
        "    else:\n",
        "        fpath,fname=os.path.split(dstfile)    \n",
        "        if not os.path.exists(fpath):\n",
        "            os.makedirs(fpath)               \n",
        "        shutil.move(srcfile,dstfile)          \n",
        "        #print (\"move %s -> %s\"%(srcfile,dstfile))"
      ]
    },
    {
      "cell_type": "code",
      "execution_count": null,
      "metadata": {
        "colab": {
          "base_uri": "https://localhost:8080/"
        },
        "id": "N-cpLi4U2CQi",
        "outputId": "1f01f37c-f33b-4f99-c7c5-b52eeae8b03f"
      },
      "outputs": [
        {
          "output_type": "execute_result",
          "data": {
            "text/plain": [
              "5845"
            ]
          },
          "metadata": {},
          "execution_count": 18
        }
      ],
      "source": [
        "Numbers"
      ]
    },
    {
      "cell_type": "code",
      "execution_count": null,
      "metadata": {
        "colab": {
          "base_uri": "https://localhost:8080/"
        },
        "id": "O7W20TSg2Cvp",
        "outputId": "664090a1-1707-403a-cc03-1d93dd14fc52"
      },
      "outputs": [
        {
          "output_type": "stream",
          "name": "stdout",
          "text": [
            "Finish creating test set\n"
          ]
        }
      ],
      "source": [
        "# Create the test set\n",
        "val_imgs=random.sample(allimgs,Numbers)\n",
        "for img in val_imgs:\n",
        "    dest_path=img.replace(Train_Dir,Val_Dir)\n",
        "    mymovefile(img,dest_path)\n",
        "print('Finish creating test set')"
      ]
    },
    {
      "cell_type": "code",
      "execution_count": null,
      "metadata": {
        "id": "UbuOGSmp2FM9"
      },
      "outputs": [],
      "source": [
        "#resize the images 224*224 for better CNN training\n",
        "def get_224(folder,dstdir):\n",
        "    imgfilepaths=[]\n",
        "    for root,dirs,imgs in os.walk(folder):\n",
        "        for thisimg in imgs:\n",
        "            thisimg_path=os.path.join(root,thisimg)\n",
        "            imgfilepaths.append(thisimg_path)\n",
        "    for thisimg_path in imgfilepaths:\n",
        "        dir_name,filename=os.path.split(thisimg_path)\n",
        "        dir_name=dir_name.replace(folder,dstdir)\n",
        "        new_file_path=os.path.join(dir_name,filename)\n",
        "        if not os.path.exists(dir_name):\n",
        "            os.makedirs(dir_name)\n",
        "        img=cv2.imread(thisimg_path)\n",
        "        img=cv2.resize(img,(224,224))\n",
        "        cv2.imwrite(new_file_path,img)\n",
        "    print('Finish resizing'.format(folder=folder))"
      ]
    },
    {
      "cell_type": "code",
      "execution_count": null,
      "metadata": {
        "colab": {
          "base_uri": "https://localhost:8080/"
        },
        "id": "0rUa9aoc2G_H",
        "outputId": "3eecde9a-670c-4f95-abb8-5f8f64a7aa8b"
      },
      "outputs": [
        {
          "output_type": "stream",
          "name": "stdout",
          "text": [
            "Finish resizing\n"
          ]
        }
      ],
      "source": [
        "DATA_DIR_224='./train_224/'\n",
        "get_224(folder='./train/',dstdir=DATA_DIR_224)"
      ]
    },
    {
      "cell_type": "code",
      "execution_count": null,
      "metadata": {
        "colab": {
          "base_uri": "https://localhost:8080/"
        },
        "id": "ZUl6h3Bb2Imr",
        "outputId": "89f0775e-d802-41a8-afd9-bf60fe9494ce"
      },
      "outputs": [
        {
          "output_type": "stream",
          "name": "stdout",
          "text": [
            "Finish resizing\n"
          ]
        }
      ],
      "source": [
        "DATA_DIR2_224='./test_224/'\n",
        "get_224(folder='./test/',dstdir=DATA_DIR2_224)"
      ]
    },
    {
      "cell_type": "markdown",
      "metadata": {
        "id": "n4v8xOXQ7TmN"
      },
      "source": [
        "Hyper"
      ]
    },
    {
      "cell_type": "code",
      "execution_count": null,
      "metadata": {
        "id": "swnRYQZ42KZu"
      },
      "outputs": [],
      "source": [
        "import os\n",
        "import tensorflow as tf\n",
        "from keras.preprocessing.image import  ImageDataGenerator\n",
        "from keras.layers import Dense,Flatten,GlobalAveragePooling2D,Input,Conv2D,MaxPooling2D,Dropout\n",
        "from keras.models import Model,load_model,Sequential\n",
        "from keras.applications.xception import  Xception\n",
        "from keras.applications.vgg16 import VGG16\n",
        "from keras.applications.vgg19 import VGG19\n",
        "from tensorflow.keras.applications.resnet50 import  ResNet50\n",
        "from keras.applications.inception_v3 import InceptionV3\n",
        "from keras.applications.inception_resnet_v2 import InceptionResNetV2\n",
        "from keras.applications.mobilenet import MobileNet\n",
        "import keras.callbacks as kcallbacks\n",
        "import keras\n",
        "from tensorflow.keras.utils import load_img\n",
        "import math\n",
        "import random\n",
        "from keras.utils import plot_model\n",
        "import matplotlib.pyplot as plt\n",
        "import sklearn.metrics as metrics\n",
        "import numpy as np\n",
        "from PIL import Image\n",
        "import sklearn.metrics as metrics\n",
        "from sklearn.metrics import accuracy_score,precision_score,recall_score,f1_score"
      ]
    },
    {
      "cell_type": "code",
      "execution_count": null,
      "metadata": {
        "colab": {
          "base_uri": "https://localhost:8080/"
        },
        "id": "MWzdHYvS7VkH",
        "outputId": "fdc8db53-7213-42f9-e302-6dc715ea0cde"
      },
      "outputs": [
        {
          "output_type": "stream",
          "name": "stdout",
          "text": [
            "Found 23383 images belonging to 5 classes.\n",
            "Found 5845 images belonging to 5 classes.\n"
          ]
        }
      ],
      "source": [
        "#generate training and test images\n",
        "TARGET_SIZE=(224,224)\n",
        "INPUT_SIZE=(224,224,3)\n",
        "BATCHSIZE=128\t#could try 128 or 32\n",
        "\n",
        "#Normalization\n",
        "train_datagen = ImageDataGenerator(rescale=1./255)\n",
        "\n",
        "test_datagen = ImageDataGenerator(rescale=1./255)\n",
        "\n",
        "train_generator = train_datagen.flow_from_directory(\n",
        "        './train_224/',\n",
        "        target_size=TARGET_SIZE,\n",
        "        batch_size=BATCHSIZE,\n",
        "        class_mode='categorical')\n",
        "validation_generator = test_datagen.flow_from_directory(\n",
        "        './test_224/',\n",
        "        target_size=TARGET_SIZE,\n",
        "        batch_size=BATCHSIZE,\n",
        "        class_mode='categorical')"
      ]
    },
    {
      "cell_type": "code",
      "execution_count": null,
      "metadata": {
        "id": "wEzHwmHc8Gmp"
      },
      "outputs": [],
      "source": [
        "#plot the figures\n",
        "class LossHistory(keras.callbacks.Callback):\n",
        "    def on_train_begin(self, logs={}):\n",
        "        self.losses = {'batch':[], 'epoch':[]}\n",
        "        self.accuracy = {'batch':[], 'epoch':[]}\n",
        "        self.val_loss = {'batch':[], 'epoch':[]}\n",
        "        self.val_acc = {'batch':[], 'epoch':[]}\n",
        "    def on_batch_end(self, batch, logs={}):\n",
        "        self.losses['batch'].append(logs.get('loss'))\n",
        "        self.accuracy['batch'].append(logs.get('acc'))\n",
        "        self.val_loss['batch'].append(logs.get('val_loss'))\n",
        "        self.val_acc['batch'].append(logs.get('val_acc'))\n",
        "    def on_epoch_end(self, batch, logs={}):\n",
        "        self.losses['epoch'].append(logs.get('loss'))\n",
        "        self.accuracy['epoch'].append(logs.get('acc'))\n",
        "        self.val_loss['epoch'].append(logs.get('val_loss'))\n",
        "        self.val_acc['epoch'].append(logs.get('val_acc'))\n",
        "    def loss_plot(self, loss_type):\n",
        "        iters = range(len(self.losses[loss_type]))\n",
        "        plt.figure()\n",
        "        plt.plot(iters, self.losses[loss_type], 'g', label='train loss')\n",
        "        if loss_type == 'epoch':\n",
        "            # acc\n",
        "            plt.plot(iters, self.accuracy[loss_type], 'r', label='train acc')\n",
        "            # loss\n",
        "            plt.plot(iters, self.losses[loss_type], 'g', label='train loss')\n",
        "            # val_acc\n",
        "            plt.plot(iters, self.val_acc[loss_type], 'b', label='val acc')\n",
        "            # val_loss\n",
        "            plt.plot(iters, self.val_loss[loss_type], 'k', label='val loss')\n",
        "        plt.grid(True)\n",
        "        plt.xlabel(loss_type)\n",
        "        plt.ylabel('acc-loss')\n",
        "        plt.legend(loc=\"upper right\")\n",
        "        plt.show()"
      ]
    },
    {
      "cell_type": "code",
      "execution_count": null,
      "metadata": {
        "id": "o9DfmsqN8JqU"
      },
      "outputs": [],
      "source": [
        "history_this= LossHistory()"
      ]
    },
    {
      "cell_type": "markdown",
      "metadata": {
        "id": "IX90VhGf8Mc8"
      },
      "source": [
        "Construct CNN models\n",
        "Model 1: a CNN model by own (baseline)"
      ]
    },
    {
      "cell_type": "code",
      "execution_count": null,
      "metadata": {
        "id": "OjZmB3X28K6s"
      },
      "outputs": [],
      "source": [
        "def cnn_by_own(input_shape,num_class,epochs,savepath='/content/model_own.h5'):\n",
        "    model = Sequential()\n",
        "    model.add(Conv2D(64,(3,3),strides=(1,1),input_shape=input_shape,padding='same',activation='relu',kernel_initializer='glorot_uniform'))\n",
        "    model.add(Conv2D(64,(3,3),strides=(1,1),padding='same',activation='relu',kernel_initializer='glorot_uniform'))\n",
        "    model.add(MaxPooling2D(pool_size=(2,2)))\n",
        "    model.add(Conv2D(128,(3,3),strides=(1,1),padding='same',activation='relu',kernel_initializer='glorot_uniform'))\n",
        "    model.add(Conv2D(128,(3,3),strides=(1,1),padding='same',activation='relu',kernel_initializer='glorot_uniform'))\n",
        "    model.add(MaxPooling2D(pool_size=(2,2)))\n",
        "    model.add(Conv2D(256,(3,3),strides=(1,1),padding='same',activation='relu',kernel_initializer='glorot_uniform'))\n",
        "    model.add(Conv2D(256,(3,3),strides=(1,1),padding='same',activation='relu',kernel_initializer='glorot_uniform'))\n",
        "    model.add(Conv2D(256,(3,3),strides=(1,1),padding='same',activation='relu',kernel_initializer='glorot_uniform'))\n",
        "    model.add(GlobalAveragePooling2D())\n",
        "    model.add(Dense(256,activation='relu'))\n",
        "    model.add(Dropout(rate=0.5))\n",
        "    model.add(Dense(num_class,activation='softmax'))\n",
        "    model.compile(loss='categorical_crossentropy',optimizer='adam',metrics=['accuracy'])\n",
        "    #train model\n",
        "    earlyStopping=kcallbacks.EarlyStopping(monitor='val_acc', patience=2, verbose=1, mode='auto')\n",
        "    saveBestModel = kcallbacks.ModelCheckpoint(filepath=savepath, monitor='val_acc', verbose=1, save_best_only=True, mode='auto')\n",
        "    hist=model.fit_generator(\n",
        "        train_generator,\n",
        "        steps_per_epoch=len(train_generator),\n",
        "        epochs=epochs,\n",
        "        validation_data=validation_generator,\n",
        "        validation_steps=len(validation_generator),\n",
        "        callbacks=[earlyStopping,saveBestModel,history_this],\n",
        "    )"
      ]
    },
    {
      "cell_type": "code",
      "execution_count": null,
      "metadata": {
        "id": "8zLfbnsL8OQn",
        "colab": {
          "base_uri": "https://localhost:8080/",
          "height": 1000
        },
        "outputId": "658b5923-12a8-4fa5-f699-11817254f9bf"
      },
      "outputs": [
        {
          "output_type": "stream",
          "name": "stdout",
          "text": [
            "Epoch 1/2\n",
            "  6/183 [..............................] - ETA: 3:43 - loss: 1.0974 - accuracy: 0.7682"
          ]
        },
        {
          "output_type": "stream",
          "name": "stderr",
          "text": [
            "WARNING:tensorflow:Callback method `on_train_batch_end` is slow compared to the batch time (batch time: 0.3398s vs `on_train_batch_end` time: 0.7681s). Check your callbacks.\n"
          ]
        },
        {
          "output_type": "stream",
          "name": "stdout",
          "text": [
            "183/183 [==============================] - ETA: 0s - loss: 0.1832 - accuracy: 0.9383"
          ]
        },
        {
          "output_type": "stream",
          "name": "stderr",
          "text": [
            "WARNING:tensorflow:Early stopping conditioned on metric `val_acc` which is not available. Available metrics are: loss,accuracy,val_loss,val_accuracy\n",
            "WARNING:tensorflow:Can save best model only with val_acc available, skipping.\n"
          ]
        },
        {
          "output_type": "stream",
          "name": "stdout",
          "text": [
            "\b\b\b\b\b\b\b\b\b\b\b\b\b\b\b\b\b\b\b\b\b\b\b\b\b\b\b\b\b\b\b\b\b\b\b\b\b\b\b\b\b\b\b\b\b\b\b\b\b\b\b\b\b\b\b\b\b\b\b\b\b\b\b\b\b\b\b\b\b\b\b\b\b\b\b\b\b\b\b\b\b\b\b\b\r183/183 [==============================] - 347s 2s/step - loss: 0.1832 - accuracy: 0.9383 - val_loss: 0.0026 - val_accuracy: 0.9998\n",
            "Epoch 2/2\n",
            "183/183 [==============================] - ETA: 0s - loss: 0.0019 - accuracy: 0.9995"
          ]
        },
        {
          "output_type": "stream",
          "name": "stderr",
          "text": [
            "WARNING:tensorflow:Early stopping conditioned on metric `val_acc` which is not available. Available metrics are: loss,accuracy,val_loss,val_accuracy\n",
            "WARNING:tensorflow:Can save best model only with val_acc available, skipping.\n"
          ]
        },
        {
          "output_type": "stream",
          "name": "stdout",
          "text": [
            "\b\b\b\b\b\b\b\b\b\b\b\b\b\b\b\b\b\b\b\b\b\b\b\b\b\b\b\b\b\b\b\b\b\b\b\b\b\b\b\b\b\b\b\b\b\b\b\b\b\b\b\b\b\b\b\b\b\b\b\b\b\b\b\b\b\b\b\b\b\b\b\b\b\b\b\b\b\b\b\b\b\b\b\b\r183/183 [==============================] - 253s 1s/step - loss: 0.0019 - accuracy: 0.9995 - val_loss: 1.3522e-05 - val_accuracy: 1.0000\n"
          ]
        },
        {
          "output_type": "display_data",
          "data": {
            "text/plain": [
              "<Figure size 640x480 with 1 Axes>"
            ],
            "image/png": "[encoded data removed]"
          },
          "metadata": {}
        },
        {
          "output_type": "display_data",
          "data": {
            "text/plain": [
              "<Figure size 640x480 with 1 Axes>"
            ],
            "image/png": "[encoded data removed]"
          },
          "metadata": {}
        }
      ],
      "source": [
        "cnn_by_own(input_shape=INPUT_SIZE,num_class=5,epochs=2)\n",
        "history_this.loss_plot('epoch')\n",
        "history_this.loss_plot('batch')\n",
        "plt.show()\n"
      ]
    },
    {
      "cell_type": "markdown",
      "metadata": {
        "id": "5RxYKynW8Sdd"
      },
      "source": [
        "Model 2: Xception"
      ]
    },
    {
      "cell_type": "code",
      "execution_count": null,
      "metadata": {
        "id": "QVSt71dm8QJF"
      },
      "outputs": [],
      "source": [
        "def xception( num_class, epochs,savepath='./content/Model/xception.h5',history=history_this,input_shape=INPUT_SIZE):\n",
        "    model_fine_tune = Xception(include_top=False, weights='imagenet', input_shape=input_shape)\n",
        "    for layer in model_fine_tune.layers[:131]:\t\t#could be tuned to be 50, 100, or 131\n",
        "        layer.trainable = False\n",
        "    for layer in model_fine_tune.layers[131:]:\n",
        "        layer.trainable = True\n",
        "    model = GlobalAveragePooling2D()(model_fine_tune.output)\n",
        "    model=Dense(units=256,activation='relu')(model)\n",
        "    model=Dropout(0.5)(model)\n",
        "    model = Dense(num_class, activation='softmax')(model)\n",
        "    model = Model(model_fine_tune.input, model, name='xception')\n",
        "    opt = keras.optimizers.Adam(lr=0.001, beta_1=0.9, beta_2=0.999, epsilon=1e-08)\n",
        "    model.compile(loss='categorical_crossentropy', optimizer=opt, metrics=['accuracy'])\n",
        "    #train model\n",
        "    earlyStopping = kcallbacks.EarlyStopping(\n",
        "        monitor='val_acc', patience=3, verbose=1, mode='auto')\t#patience could be tuned by 2 and 3\n",
        "    saveBestModel = kcallbacks.ModelCheckpoint(\n",
        "        filepath=savepath,\n",
        "        monitor='val_acc',\n",
        "        verbose=1,\n",
        "        save_best_only=True,\n",
        "        mode='auto')\n",
        "    print(\"hello\")\n",
        "    hist = model.fit_generator(\n",
        "        train_generator,\n",
        "        steps_per_epoch=len(train_generator),\n",
        "        epochs=epochs,\n",
        "        validation_data=validation_generator,\n",
        "        validation_steps=len(validation_generator),\n",
        "        #use_multiprocessing=True, \n",
        "        callbacks=[earlyStopping, saveBestModel, history],\n",
        "    )\n",
        "    print(\"hello\")\n",
        "    model.save(\"xception.h5\")\n",
        "    print(\"ho\")"
      ]
    },
    {
      "cell_type": "code",
      "execution_count": null,
      "metadata": {
        "id": "pzEWpsn28U8S",
        "colab": {
          "base_uri": "https://localhost:8080/",
          "height": 1000
        },
        "outputId": "14c228ca-0006-47ce-9a2e-40411ebbe469"
      },
      "outputs": [
        {
          "output_type": "stream",
          "name": "stdout",
          "text": [
            "Downloading data from https://storage.googleapis.com/tensorflow/keras-applications/xception/xception_weights_tf_dim_ordering_tf_kernels_notop.h5\n",
            "83683744/83683744 [==============================] - 0s 0us/step\n",
            "hello\n",
            "Epoch 1/2\n",
            "183/183 [==============================] - ETA: 0s - loss: 0.0379 - accuracy: 0.9889"
          ]
        },
        {
          "output_type": "stream",
          "name": "stderr",
          "text": [
            "WARNING:tensorflow:Early stopping conditioned on metric `val_acc` which is not available. Available metrics are: loss,accuracy,val_loss,val_accuracy\n",
            "WARNING:tensorflow:Can save best model only with val_acc available, skipping.\n"
          ]
        },
        {
          "output_type": "stream",
          "name": "stdout",
          "text": [
            "\b\b\b\b\b\b\b\b\b\b\b\b\b\b\b\b\b\b\b\b\b\b\b\b\b\b\b\b\b\b\b\b\b\b\b\b\b\b\b\b\b\b\b\b\b\b\b\b\b\b\b\b\b\b\b\b\b\b\b\b\b\b\b\b\b\b\b\b\b\b\b\b\b\b\b\b\b\b\b\b\b\b\b\b\r183/183 [==============================] - 142s 721ms/step - loss: 0.0379 - accuracy: 0.9889 - val_loss: 2.3782e-04 - val_accuracy: 1.0000\n",
            "Epoch 2/2\n",
            "183/183 [==============================] - ETA: 0s - loss: 4.6045e-04 - accuracy: 1.0000"
          ]
        },
        {
          "output_type": "stream",
          "name": "stderr",
          "text": [
            "WARNING:tensorflow:Early stopping conditioned on metric `val_acc` which is not available. Available metrics are: loss,accuracy,val_loss,val_accuracy\n",
            "WARNING:tensorflow:Can save best model only with val_acc available, skipping.\n"
          ]
        },
        {
          "output_type": "stream",
          "name": "stdout",
          "text": [
            "\b\b\b\b\b\b\b\b\b\b\b\b\b\b\b\b\b\b\b\b\b\b\b\b\b\b\b\b\b\b\b\b\b\b\b\b\b\b\b\b\b\b\b\b\b\b\b\b\b\b\b\b\b\b\b\b\b\b\b\b\b\b\b\b\b\b\b\b\b\b\b\b\b\b\b\b\b\b\b\b\b\b\b\b\b\b\b\b\r183/183 [==============================] - 121s 662ms/step - loss: 4.6045e-04 - accuracy: 1.0000 - val_loss: 9.4638e-05 - val_accuracy: 1.0000\n",
            "hello\n",
            "ho\n"
          ]
        },
        {
          "output_type": "display_data",
          "data": {
            "text/plain": [
              "<Figure size 640x480 with 1 Axes>"
            ],
            "image/png": "[encoded data removed]"
          },
          "metadata": {}
        },
        {
          "output_type": "display_data",
          "data": {
            "text/plain": [
              "<Figure size 640x480 with 1 Axes>"
            ],
            "image/png": "[encoded data removed]"
          },
          "metadata": {}
        }
      ],
      "source": [
        "#default only 50, tf36cnn 99\n",
        "xception(num_class=5,epochs=2)\n",
        "history_this.loss_plot('epoch')\n",
        "history_this.loss_plot('batch')\n",
        "plt.show()"
      ]
    },
    {
      "cell_type": "markdown",
      "source": [],
      "metadata": {
        "id": "CBQ1VyKI0Z6X"
      }
    },
    {
      "cell_type": "markdown",
      "metadata": {
        "id": "KxeOo4KU8eNz"
      },
      "source": [
        "Model 3: VGG16"
      ]
    },
    {
      "cell_type": "code",
      "execution_count": null,
      "metadata": {
        "id": "lAQGs1fz8ae_"
      },
      "outputs": [],
      "source": [
        "def vgg16( num_class, epochs,savepath='./VGG16.h5',history=history_this,input_shape=INPUT_SIZE):\n",
        "    model_fine_tune = VGG16(include_top=False, weights='imagenet', input_shape=input_shape)\n",
        "    for layer in model_fine_tune.layers[:15]:\t#the number of frozen layers for transfer learning, have tuned from 5-18\n",
        "        layer.trainable = False\n",
        "    for layer in model_fine_tune.layers[15:]:\n",
        "        layer.trainable = True\n",
        "    model = GlobalAveragePooling2D()(model_fine_tune.output) #GlobalAveragePooling2D layer to convert the features to a single 1280-element vector per image\n",
        "    model=Dense(units=256,activation='relu')(model)\n",
        "    model=Dropout(0.5)(model)\n",
        "    model = Dense(num_class, activation='softmax')(model)\n",
        "    model = Model(model_fine_tune.input, model, name='vgg')\n",
        "    opt = keras.optimizers.Adam(lr=0.001, beta_1=0.9, beta_2=0.999, epsilon=1e-08)\t#tuned learning rate to be 0.001\n",
        "    model.compile(loss='categorical_crossentropy', optimizer=opt, metrics=['accuracy'])\t#set the loss function to be binary crossentropy\n",
        "    #train model\n",
        "    earlyStopping = kcallbacks.EarlyStopping(\n",
        "        monitor='val_acc', patience=2, verbose=1, mode='auto')\t#set early stop patience to save training time\n",
        "    saveBestModel = kcallbacks.ModelCheckpoint(\n",
        "        filepath=savepath,\n",
        "        monitor='val_acc',\n",
        "        verbose=1,\n",
        "        save_best_only=True,\n",
        "        mode='auto')\n",
        "    hist = model.fit_generator(\n",
        "        train_generator,\n",
        "        steps_per_epoch=len(train_generator),\n",
        "        epochs=epochs,\n",
        "        validation_data=validation_generator,\n",
        "        validation_steps=len(validation_generator),\n",
        "        #use_multiprocessing=True, \n",
        "        #workers=2,\n",
        "        callbacks=[earlyStopping, saveBestModel, history],\n",
        "    )"
      ]
    },
    {
      "cell_type": "code",
      "execution_count": null,
      "metadata": {
        "id": "yqYHS1AE8goL",
        "colab": {
          "base_uri": "https://localhost:8080/",
          "height": 1000
        },
        "outputId": "a0be939f-1d03-4ea8-8d1e-7f1cfa7d646c"
      },
      "outputs": [
        {
          "output_type": "stream",
          "name": "stdout",
          "text": [
            "Downloading data from https://storage.googleapis.com/tensorflow/keras-applications/vgg16/vgg16_weights_tf_dim_ordering_tf_kernels_notop.h5\n",
            "58889256/58889256 [==============================] - 0s 0us/step\n",
            "Epoch 1/2\n",
            "183/183 [==============================] - ETA: 0s - loss: 0.0372 - accuracy: 0.9864"
          ]
        },
        {
          "output_type": "stream",
          "name": "stderr",
          "text": [
            "WARNING:tensorflow:Early stopping conditioned on metric `val_acc` which is not available. Available metrics are: loss,accuracy,val_loss,val_accuracy\n",
            "WARNING:tensorflow:Can save best model only with val_acc available, skipping.\n"
          ]
        },
        {
          "output_type": "stream",
          "name": "stdout",
          "text": [
            "\b\b\b\b\b\b\b\b\b\b\b\b\b\b\b\b\b\b\b\b\b\b\b\b\b\b\b\b\b\b\b\b\b\b\b\b\b\b\b\b\b\b\b\b\b\b\b\b\b\b\b\b\b\b\b\b\b\b\b\b\b\b\b\b\b\b\b\b\b\b\b\b\b\b\b\b\b\b\b\b\b\b\b\b\r183/183 [==============================] - 149s 782ms/step - loss: 0.0372 - accuracy: 0.9864 - val_loss: 0.0000e+00 - val_accuracy: 1.0000\n",
            "Epoch 2/2\n",
            "183/183 [==============================] - ETA: 0s - loss: 2.8379e-06 - accuracy: 1.0000"
          ]
        },
        {
          "output_type": "stream",
          "name": "stderr",
          "text": [
            "WARNING:tensorflow:Early stopping conditioned on metric `val_acc` which is not available. Available metrics are: loss,accuracy,val_loss,val_accuracy\n",
            "WARNING:tensorflow:Can save best model only with val_acc available, skipping.\n"
          ]
        },
        {
          "output_type": "stream",
          "name": "stdout",
          "text": [
            "\b\b\b\b\b\b\b\b\b\b\b\b\b\b\b\b\b\b\b\b\b\b\b\b\b\b\b\b\b\b\b\b\b\b\b\b\b\b\b\b\b\b\b\b\b\b\b\b\b\b\b\b\b\b\b\b\b\b\b\b\b\b\b\b\b\b\b\b\b\b\b\b\b\b\b\b\b\b\b\b\b\b\b\b\b\b\b\b\r183/183 [==============================] - 137s 750ms/step - loss: 2.8379e-06 - accuracy: 1.0000 - val_loss: 0.0000e+00 - val_accuracy: 1.0000\n"
          ]
        },
        {
          "output_type": "display_data",
          "data": {
            "text/plain": [
              "<Figure size 640x480 with 1 Axes>"
            ],
            "image/png": "[encoded data removed]"
          },
          "metadata": {}
        },
        {
          "output_type": "display_data",
          "data": {
            "text/plain": [
              "<Figure size 640x480 with 1 Axes>"
            ],
            "image/png": "[encoded data removed]"
          },
          "metadata": {}
        }
      ],
      "source": [
        "vgg16(num_class=5,epochs=2)\t#tf36cnn\n",
        "history_this.loss_plot('epoch')\n",
        "history_this.loss_plot('batch')\n",
        "plt.show()"
      ]
    },
    {
      "cell_type": "markdown",
      "metadata": {
        "id": "_3MBvdTF8jlV"
      },
      "source": [
        "Model 4: VGG19"
      ]
    },
    {
      "cell_type": "code",
      "execution_count": null,
      "metadata": {
        "id": "CHBEpt4s8jJ-"
      },
      "outputs": [],
      "source": [
        "def vgg19( num_class, epochs,savepath='./VGG19.h5',history=history_this,input_shape=INPUT_SIZE):\n",
        "    model_fine_tune = VGG19(include_top=False, weights='imagenet', input_shape=input_shape)\n",
        "    for layer in model_fine_tune.layers[:19]:\t#the number of frozen layers for transfer learning, have tuned from 5-18\n",
        "        layer.trainable = False\n",
        "    for layer in model_fine_tune.layers[19:]:\n",
        "        layer.trainable = True\n",
        "    model = GlobalAveragePooling2D()(model_fine_tune.output)\n",
        "    model=Dense(units=256,activation='relu')(model)\n",
        "    model=Dropout(0.5)(model)\n",
        "    model = Dense(num_class, activation='softmax')(model)\n",
        "    model = Model(model_fine_tune.input, model, name='vgg')\n",
        "    opt = keras.optimizers.Adam(lr=0.001, beta_1=0.9, beta_2=0.999, epsilon=1e-08)\t#tuned learning rate to be 0.001\n",
        "    model.compile(loss='categorical_crossentropy', optimizer=opt, metrics=['accuracy'])\t#set the loss function to be binary crossentropy\n",
        "    #train model\n",
        "    earlyStopping = kcallbacks.EarlyStopping(\n",
        "        monitor='val_acc', patience=2, verbose=1, mode='auto')\t#set early stop patience to save training time\n",
        "    saveBestModel = kcallbacks.ModelCheckpoint(\n",
        "        filepath=savepath,\n",
        "        monitor='val_acc',\n",
        "        verbose=1,\n",
        "        save_best_only=True,\n",
        "        mode='auto')\n",
        "    hist = model.fit_generator(\n",
        "        train_generator,\n",
        "        steps_per_epoch=len(train_generator),\n",
        "        epochs=epochs,\n",
        "        validation_data=validation_generator,\n",
        "        validation_steps=len(validation_generator),\n",
        "        #use_multiprocessing=True, \n",
        "        #workers=2,\n",
        "        callbacks=[earlyStopping, saveBestModel, history],\n",
        "    )\n",
        "    print(\"hello\")\n",
        "    model.save(\"VGG19.h5\")\n",
        "    print(\"ho\")"
      ]
    },
    {
      "cell_type": "code",
      "execution_count": null,
      "metadata": {
        "id": "-65LO_dm8niX",
        "colab": {
          "base_uri": "https://localhost:8080/",
          "height": 1000
        },
        "outputId": "232802ba-3343-46ad-b604-02a08557d073"
      },
      "outputs": [
        {
          "output_type": "stream",
          "name": "stdout",
          "text": [
            "Downloading data from https://storage.googleapis.com/tensorflow/keras-applications/vgg19/vgg19_weights_tf_dim_ordering_tf_kernels_notop.h5\n",
            "80134624/80134624 [==============================] - 0s 0us/step\n",
            "Epoch 1/2\n",
            "183/183 [==============================] - ETA: 0s - loss: 0.0281 - accuracy: 0.9900"
          ]
        },
        {
          "output_type": "stream",
          "name": "stderr",
          "text": [
            "WARNING:tensorflow:Early stopping conditioned on metric `val_acc` which is not available. Available metrics are: loss,accuracy,val_loss,val_accuracy\n",
            "WARNING:tensorflow:Can save best model only with val_acc available, skipping.\n"
          ]
        },
        {
          "output_type": "stream",
          "name": "stdout",
          "text": [
            "\b\b\b\b\b\b\b\b\b\b\b\b\b\b\b\b\b\b\b\b\b\b\b\b\b\b\b\b\b\b\b\b\b\b\b\b\b\b\b\b\b\b\b\b\b\b\b\b\b\b\b\b\b\b\b\b\b\b\b\b\b\b\b\b\b\b\b\b\b\b\b\b\b\b\b\b\b\b\b\b\b\b\b\b\r183/183 [==============================] - 160s 867ms/step - loss: 0.0281 - accuracy: 0.9900 - val_loss: 1.6158e-07 - val_accuracy: 1.0000\n",
            "Epoch 2/2\n",
            "183/183 [==============================] - ETA: 0s - loss: 8.9959e-07 - accuracy: 1.0000"
          ]
        },
        {
          "output_type": "stream",
          "name": "stderr",
          "text": [
            "WARNING:tensorflow:Early stopping conditioned on metric `val_acc` which is not available. Available metrics are: loss,accuracy,val_loss,val_accuracy\n",
            "WARNING:tensorflow:Can save best model only with val_acc available, skipping.\n"
          ]
        },
        {
          "output_type": "stream",
          "name": "stdout",
          "text": [
            "\b\b\b\b\b\b\b\b\b\b\b\b\b\b\b\b\b\b\b\b\b\b\b\b\b\b\b\b\b\b\b\b\b\b\b\b\b\b\b\b\b\b\b\b\b\b\b\b\b\b\b\b\b\b\b\b\b\b\b\b\b\b\b\b\b\b\b\b\b\b\b\b\b\b\b\b\b\b\b\b\b\b\b\b\b\b\b\b\r183/183 [==============================] - 158s 862ms/step - loss: 8.9959e-07 - accuracy: 1.0000 - val_loss: 6.0502e-08 - val_accuracy: 1.0000\n",
            "hello\n",
            "ho\n"
          ]
        },
        {
          "output_type": "display_data",
          "data": {
            "text/plain": [
              "<Figure size 640x480 with 1 Axes>"
            ],
            "image/png": "[encoded data removed]"
          },
          "metadata": {}
        },
        {
          "output_type": "display_data",
          "data": {
            "text/plain": [
              "<Figure size 640x480 with 1 Axes>"
            ],
            "image/png": "[encoded data removed]"
          },
          "metadata": {}
        }
      ],
      "source": [
        "vgg19(num_class=5,epochs=2)\t#binary classificaiton\n",
        "history_this.loss_plot('epoch')\n",
        "history_this.loss_plot('batch')\n",
        "plt.show()"
      ]
    },
    {
      "cell_type": "markdown",
      "metadata": {
        "id": "mtjRpe8q8xzs"
      },
      "source": [
        "Model 5: ResNet"
      ]
    },
    {
      "cell_type": "code",
      "execution_count": null,
      "metadata": {
        "id": "bRfnpZg78pMD"
      },
      "outputs": [],
      "source": [
        "def resnet( num_class, epochs,savepath='./resnet.h5',history=history_this,input_shape=INPUT_SIZE):\n",
        "    model_fine_tune = ResNet50(include_top=False, weights='imagenet', input_shape=input_shape)\n",
        "    for layer in model_fine_tune.layers[:120]:\t#the number of frozen layers for transfer learning, have tuned from 50-150\n",
        "        layer.trainable = False\n",
        "    for layer in model_fine_tune.layers[120:]:\t#the number of trainable layers for transfer learning\n",
        "        layer.trainable = True\n",
        "    model = GlobalAveragePooling2D()(model_fine_tune.output)\n",
        "    model=Dense(units=256,activation='relu')(model)\n",
        "    model=Dropout(0.5)(model)\n",
        "    model = Dense(num_class, activation='softmax')(model)\n",
        "    model = Model(model_fine_tune.input, model, name='resnet')\n",
        "    opt = keras.optimizers.Adam(lr=0.001, beta_1=0.9, beta_2=0.999, epsilon=1e-08)\t#tuned learning rate to be 0.001\n",
        "    model.compile(loss='categorical_crossentropy', optimizer=opt, metrics=['accuracy']) #set the loss function to be binary crossentropy\n",
        "    #train model\n",
        "    earlyStopping = kcallbacks.EarlyStopping(\n",
        "        monitor='val_acc', patience=2, verbose=1, mode='auto')\t#set early stop patience to save training time\n",
        "    saveBestModel = kcallbacks.ModelCheckpoint(\n",
        "        filepath=savepath,\n",
        "        monitor='val_acc',\n",
        "        verbose=1,\n",
        "        save_best_only=True,\n",
        "        mode='auto')\n",
        "    hist = model.fit_generator(\n",
        "        train_generator,\n",
        "        steps_per_epoch=len(train_generator),\n",
        "        epochs=epochs,\n",
        "        validation_data=validation_generator,\n",
        "        validation_steps=len(validation_generator),\n",
        "        #use_multiprocessing=True, \n",
        "        callbacks=[earlyStopping, saveBestModel, history],\n",
        "    )\n",
        "    print(\"hello\")\n",
        "    model.save(\"resnet.h5\")\n",
        "    print(\"ho\")"
      ]
    },
    {
      "cell_type": "code",
      "execution_count": null,
      "metadata": {
        "id": "mlSYvvGb80cu",
        "colab": {
          "base_uri": "https://localhost:8080/",
          "height": 1000
        },
        "outputId": "7152454f-93c6-4691-c169-8c04f8344aa3"
      },
      "outputs": [
        {
          "output_type": "stream",
          "name": "stdout",
          "text": [
            "Downloading data from https://storage.googleapis.com/tensorflow/keras-applications/resnet/resnet50_weights_tf_dim_ordering_tf_kernels_notop.h5\n",
            "94765736/94765736 [==============================] - 1s 0us/step\n",
            "Epoch 1/2\n",
            "183/183 [==============================] - ETA: 0s - loss: 0.1725 - accuracy: 0.9435"
          ]
        },
        {
          "output_type": "stream",
          "name": "stderr",
          "text": [
            "WARNING:tensorflow:Early stopping conditioned on metric `val_acc` which is not available. Available metrics are: loss,accuracy,val_loss,val_accuracy\n",
            "WARNING:tensorflow:Can save best model only with val_acc available, skipping.\n"
          ]
        },
        {
          "output_type": "stream",
          "name": "stdout",
          "text": [
            "\b\b\b\b\b\b\b\b\b\b\b\b\b\b\b\b\b\b\b\b\b\b\b\b\b\b\b\b\b\b\b\b\b\b\b\b\b\b\b\b\b\b\b\b\b\b\b\b\b\b\b\b\b\b\b\b\b\b\b\b\b\b\b\b\b\b\b\b\b\b\b\b\b\b\b\b\b\b\b\b\b\b\b\b\r183/183 [==============================] - 150s 764ms/step - loss: 0.1725 - accuracy: 0.9435 - val_loss: 1155.9238 - val_accuracy: 0.0344\n",
            "Epoch 2/2\n",
            "183/183 [==============================] - ETA: 0s - loss: 0.0179 - accuracy: 0.9944"
          ]
        },
        {
          "output_type": "stream",
          "name": "stderr",
          "text": [
            "WARNING:tensorflow:Early stopping conditioned on metric `val_acc` which is not available. Available metrics are: loss,accuracy,val_loss,val_accuracy\n",
            "WARNING:tensorflow:Can save best model only with val_acc available, skipping.\n"
          ]
        },
        {
          "output_type": "stream",
          "name": "stdout",
          "text": [
            "\b\b\b\b\b\b\b\b\b\b\b\b\b\b\b\b\b\b\b\b\b\b\b\b\b\b\b\b\b\b\b\b\b\b\b\b\b\b\b\b\b\b\b\b\b\b\b\b\b\b\b\b\b\b\b\b\b\b\b\b\b\b\b\b\b\b\b\b\b\b\b\b\b\b\b\b\b\b\b\b\b\b\b\b\r183/183 [==============================] - 132s 719ms/step - loss: 0.0179 - accuracy: 0.9944 - val_loss: 0.9662 - val_accuracy: 0.8932\n",
            "hello\n",
            "ho\n"
          ]
        },
        {
          "output_type": "display_data",
          "data": {
            "text/plain": [
              "<Figure size 640x480 with 1 Axes>"
            ],
            "image/png": "[encoded data removed]"
          },
          "metadata": {}
        },
        {
          "output_type": "display_data",
          "data": {
            "text/plain": [
              "<Figure size 640x480 with 1 Axes>"
            ],
            "image/png": "[encoded data removed]"
          },
          "metadata": {}
        }
      ],
      "source": [
        "resnet(num_class=5,epochs=2)\t#binary classificaiton\n",
        "history_this.loss_plot('epoch')\n",
        "history_this.loss_plot('batch')\n",
        "plt.show()"
      ]
    },
    {
      "cell_type": "markdown",
      "metadata": {
        "id": "Pvyk8VEs84r0"
      },
      "source": [
        "Inception"
      ]
    },
    {
      "cell_type": "code",
      "execution_count": null,
      "metadata": {
        "id": "GdL-I4Xd82ZE"
      },
      "outputs": [],
      "source": [
        "def inception( num_class, epochs,savepath='./inception.h5',history=history_this,input_shape=INPUT_SIZE):\n",
        "    model_fine_tune = InceptionV3(include_top=False, weights='imagenet', input_shape=input_shape)\n",
        "    for layer in model_fine_tune.layers[:35]:\t#the number of frozen layers for transfer learning, have tuned from 50-150\n",
        "        layer.trainable = False\n",
        "    for layer in model_fine_tune.layers[35:]:\t#the number of trainable layers for transfer learning\n",
        "        layer.trainable = True\n",
        "    model = GlobalAveragePooling2D()(model_fine_tune.output)\n",
        "    model=Dense(units=256,activation='relu')(model)\n",
        "    model=Dropout(0.5)(model)\n",
        "    model = Dense(num_class, activation='softmax')(model)\n",
        "    model = Model(model_fine_tune.input, model, name='resnet')\n",
        "    opt = keras.optimizers.Adam(lr=0.001, beta_1=0.9, beta_2=0.999, epsilon=1e-08)\t#tuned learning rate to be 0.001\n",
        "    model.compile(loss='categorical_crossentropy', optimizer=opt, metrics=['accuracy']) #set the loss function to be binary crossentropy\n",
        "    #train model\n",
        "    earlyStopping = kcallbacks.EarlyStopping(\n",
        "        monitor='val_acc', patience=2, verbose=1, mode='auto')\t#set early stop patience to save training time\n",
        "    saveBestModel = kcallbacks.ModelCheckpoint(\n",
        "        filepath=savepath,\n",
        "        monitor='val_acc',\n",
        "        verbose=1,\n",
        "        save_best_only=True,\n",
        "        mode='auto')\n",
        "    hist = model.fit_generator(\n",
        "        train_generator,\n",
        "        steps_per_epoch=len(train_generator),\n",
        "        epochs=epochs,\n",
        "        validation_data=validation_generator,\n",
        "        validation_steps=len(validation_generator),\n",
        "        #use_multiprocessing=True, \n",
        "        callbacks=[earlyStopping, saveBestModel, history],\n",
        "    )\n",
        "    print(\"hello\")\n",
        "    model.save(\"inception.h5\")\n",
        "    print(\"ho\")"
      ]
    },
    {
      "cell_type": "code",
      "execution_count": null,
      "metadata": {
        "id": "VejWGck985uv",
        "colab": {
          "base_uri": "https://localhost:8080/",
          "height": 1000
        },
        "outputId": "2ea71e83-9ca4-48df-bc4e-18cd94e5f6e8"
      },
      "outputs": [
        {
          "output_type": "stream",
          "name": "stdout",
          "text": [
            "Downloading data from https://storage.googleapis.com/tensorflow/keras-applications/inception_v3/inception_v3_weights_tf_dim_ordering_tf_kernels_notop.h5\n",
            "87910968/87910968 [==============================] - 1s 0us/step\n",
            "Epoch 1/2\n",
            "  6/183 [..............................] - ETA: 1:59 - loss: 0.5050 - accuracy: 0.8086"
          ]
        },
        {
          "output_type": "stream",
          "name": "stderr",
          "text": [
            "WARNING:tensorflow:Callback method `on_train_batch_end` is slow compared to the batch time (batch time: 0.2925s vs `on_train_batch_end` time: 0.3199s). Check your callbacks.\n"
          ]
        },
        {
          "output_type": "stream",
          "name": "stdout",
          "text": [
            "183/183 [==============================] - ETA: 0s - loss: 0.0447 - accuracy: 0.9899"
          ]
        },
        {
          "output_type": "stream",
          "name": "stderr",
          "text": [
            "WARNING:tensorflow:Early stopping conditioned on metric `val_acc` which is not available. Available metrics are: loss,accuracy,val_loss,val_accuracy\n",
            "WARNING:tensorflow:Can save best model only with val_acc available, skipping.\n"
          ]
        },
        {
          "output_type": "stream",
          "name": "stdout",
          "text": [
            "\b\b\b\b\b\b\b\b\b\b\b\b\b\b\b\b\b\b\b\b\b\b\b\b\b\b\b\b\b\b\b\b\b\b\b\b\b\b\b\b\b\b\b\b\b\b\b\b\b\b\b\b\b\b\b\b\b\b\b\b\b\b\b\b\b\b\b\b\b\b\b\b\b\b\b\b\b\b\b\b\b\b\b\b\r183/183 [==============================] - 191s 954ms/step - loss: 0.0447 - accuracy: 0.9899 - val_loss: 15.4518 - val_accuracy: 0.8512\n",
            "Epoch 2/2\n",
            "183/183 [==============================] - ETA: 0s - loss: 0.0023 - accuracy: 0.9997"
          ]
        },
        {
          "output_type": "stream",
          "name": "stderr",
          "text": [
            "WARNING:tensorflow:Early stopping conditioned on metric `val_acc` which is not available. Available metrics are: loss,accuracy,val_loss,val_accuracy\n",
            "WARNING:tensorflow:Can save best model only with val_acc available, skipping.\n"
          ]
        },
        {
          "output_type": "stream",
          "name": "stdout",
          "text": [
            "\b\b\b\b\b\b\b\b\b\b\b\b\b\b\b\b\b\b\b\b\b\b\b\b\b\b\b\b\b\b\b\b\b\b\b\b\b\b\b\b\b\b\b\b\b\b\b\b\b\b\b\b\b\b\b\b\b\b\b\b\b\b\b\b\b\b\b\b\b\b\b\b\b\b\b\b\b\b\b\b\b\b\b\b\r183/183 [==============================] - 143s 783ms/step - loss: 0.0023 - accuracy: 0.9997 - val_loss: 0.0524 - val_accuracy: 0.9622\n",
            "hello\n",
            "ho\n"
          ]
        },
        {
          "output_type": "display_data",
          "data": {
            "text/plain": [
              "<Figure size 640x480 with 1 Axes>"
            ],
            "image/png": "[encoded data removed]"
          },
          "metadata": {}
        },
        {
          "output_type": "display_data",
          "data": {
            "text/plain": [
              "<Figure size 640x480 with 1 Axes>"
            ],
            "image/png": "[encoded data removed]"
          },
          "metadata": {}
        }
      ],
      "source": [
        "inception(num_class=5,epochs=2)\t#binary classificaiton\n",
        "history_this.loss_plot('epoch')\n",
        "history_this.loss_plot('batch')\n",
        "plt.show()"
      ]
    },
    {
      "cell_type": "markdown",
      "metadata": {
        "id": "NG88HX4S89DT"
      },
      "source": [
        "Model 7: InceptionResnet"
      ]
    },
    {
      "cell_type": "code",
      "execution_count": null,
      "metadata": {
        "id": "kvUi1Aal87TF"
      },
      "outputs": [],
      "source": [
        "def inceptionresnet( num_class, epochs,savepath='./inceptionresnet.h5',history=history_this,input_shape=INPUT_SIZE):\n",
        "    model_fine_tune = InceptionResNetV2(include_top=False, weights='imagenet', input_shape=input_shape)\n",
        "    for layer in model_fine_tune.layers[:500]:\t#the number of frozen layers for transfer learning, have tuned from 400-550\n",
        "        layer.trainable = False\n",
        "    for layer in model_fine_tune.layers[500:]:\t#the number of trainable layers for transfer learning\n",
        "        layer.trainable = True\n",
        "    model = GlobalAveragePooling2D()(model_fine_tune.output)\n",
        "    model=Dense(units=256,activation='relu')(model)\n",
        "    model=Dropout(0.5)(model)\n",
        "    model = Dense(num_class, activation='softmax')(model)\n",
        "    model = Model(model_fine_tune.input, model, name='resnet')\n",
        "    opt = keras.optimizers.Adam(lr=0.001, beta_1=0.9, beta_2=0.999, epsilon=1e-08)\t#tuned learning rate to be 0.001\n",
        "    model.compile(loss='categorical_crossentropy', optimizer=opt, metrics=['accuracy']) #set the loss function to be binary crossentropy\n",
        "    #train model\n",
        "    earlyStopping = kcallbacks.EarlyStopping(\n",
        "        monitor='val_acc', patience=2, verbose=1, mode='auto')\t#set early stop patience to save training time\n",
        "    saveBestModel = kcallbacks.ModelCheckpoint(\n",
        "        filepath=savepath,\n",
        "        monitor='val_acc',\n",
        "        verbose=1,\n",
        "        save_best_only=True,\n",
        "        mode='auto')\n",
        "    hist = model.fit_generator(\n",
        "        train_generator,\n",
        "        steps_per_epoch=len(train_generator),\n",
        "        epochs=epochs,\n",
        "        validation_data=validation_generator,\n",
        "        validation_steps=len(validation_generator),\n",
        "        #use_multiprocessing=True, \n",
        "        callbacks=[earlyStopping, saveBestModel, history],\n",
        "    )\n",
        "    print(\"hello\")\n",
        "    model.save(\"inceptionresnet.h5\")\n",
        "    print(\"ho\")"
      ]
    },
    {
      "cell_type": "code",
      "execution_count": null,
      "metadata": {
        "id": "gc-W_u6i8_v2",
        "colab": {
          "base_uri": "https://localhost:8080/",
          "height": 1000
        },
        "outputId": "1093a182-c7fb-411f-82c4-46533f2ada32"
      },
      "outputs": [
        {
          "output_type": "stream",
          "name": "stdout",
          "text": [
            "Downloading data from https://storage.googleapis.com/tensorflow/keras-applications/inception_resnet_v2/inception_resnet_v2_weights_tf_dim_ordering_tf_kernels_notop.h5\n",
            "219055592/219055592 [==============================] - 4s 0us/step\n",
            "Epoch 1/2\n",
            "183/183 [==============================] - ETA: 0s - loss: 0.0272 - accuracy: 0.9918"
          ]
        },
        {
          "output_type": "stream",
          "name": "stderr",
          "text": [
            "WARNING:tensorflow:Early stopping conditioned on metric `val_acc` which is not available. Available metrics are: loss,accuracy,val_loss,val_accuracy\n",
            "WARNING:tensorflow:Can save best model only with val_acc available, skipping.\n"
          ]
        },
        {
          "output_type": "stream",
          "name": "stdout",
          "text": [
            "\b\b\b\b\b\b\b\b\b\b\b\b\b\b\b\b\b\b\b\b\b\b\b\b\b\b\b\b\b\b\b\b\b\b\b\b\b\b\b\b\b\b\b\b\b\b\b\b\b\b\b\b\b\b\b\b\b\b\b\b\b\b\b\b\b\b\b\b\b\b\b\b\b\b\b\b\b\b\b\b\b\b\b\b\r183/183 [==============================] - 256s 1s/step - loss: 0.0272 - accuracy: 0.9918 - val_loss: 1.0581 - val_accuracy: 0.9820\n",
            "Epoch 2/2\n",
            "183/183 [==============================] - ETA: 0s - loss: 0.0202 - accuracy: 0.9972"
          ]
        },
        {
          "output_type": "stream",
          "name": "stderr",
          "text": [
            "WARNING:tensorflow:Early stopping conditioned on metric `val_acc` which is not available. Available metrics are: loss,accuracy,val_loss,val_accuracy\n",
            "WARNING:tensorflow:Can save best model only with val_acc available, skipping.\n"
          ]
        },
        {
          "output_type": "stream",
          "name": "stdout",
          "text": [
            "\b\b\b\b\b\b\b\b\b\b\b\b\b\b\b\b\b\b\b\b\b\b\b\b\b\b\b\b\b\b\b\b\b\b\b\b\b\b\b\b\b\b\b\b\b\b\b\b\b\b\b\b\b\b\b\b\b\b\b\b\b\b\b\b\b\b\b\b\b\b\b\b\b\b\b\b\b\b\b\b\b\b\b\b\r183/183 [==============================] - 212s 1s/step - loss: 0.0202 - accuracy: 0.9972 - val_loss: 10.8015 - val_accuracy: 0.1896\n",
            "hello\n",
            "ho\n"
          ]
        },
        {
          "output_type": "display_data",
          "data": {
            "text/plain": [
              "<Figure size 640x480 with 1 Axes>"
            ],
            "image/png": "[encoded data removed]"
          },
          "metadata": {}
        },
        {
          "output_type": "display_data",
          "data": {
            "text/plain": [
              "<Figure size 640x480 with 1 Axes>"
            ],
            "image/png": "[encoded data removed]"
          },
          "metadata": {}
        }
      ],
      "source": [
        "inceptionresnet(num_class=5,epochs=2)\t# 5-class classificaiton\n",
        "history_this.loss_plot('epoch')\n",
        "history_this.loss_plot('batch')\n",
        "plt.show()"
      ]
    },
    {
      "cell_type": "markdown",
      "metadata": {
        "id": "8v5XQX0q9GpM"
      },
      "source": [
        "Hyperparameter Optimization\n",
        "Use VGG16 as an example.\n",
        "\n",
        "Tuned hyperparameters of CNN:\n",
        "\n",
        "The number of frozen layers\n",
        "The number of epochs\n",
        "Early stop patience\n",
        "Learning rate\n",
        "Dropout rate\n",
        "Hyperparameter optimization methods:\n",
        "\n",
        "Random search\n",
        "Bayesian optimization - Tree Parzen Estimator(BO-TPE)\n"
      ]
    },
    {
      "cell_type": "code",
      "execution_count": null,
      "metadata": {
        "id": "hYOjtp839DAY"
      },
      "outputs": [],
      "source": [
        "def vgg16( num_class,epochs=2,frozen=15,lr=0.001,patience=2, dropout_rate=0.5,verbose=0, savepath='./VGG16.h5',history=history_this,input_shape=INPUT_SIZE):\n",
        "    model_fine_tune = VGG16(include_top=False, weights='imagenet', input_shape=input_shape)\n",
        "    for layer in model_fine_tune.layers[:frozen]:\t#the number of frozen layers for transfer learning, have tuned from 5-18\n",
        "        layer.trainable = False\n",
        "    for layer in model_fine_tune.layers[frozen:]:\n",
        "        layer.trainable = True\n",
        "    model = GlobalAveragePooling2D()(model_fine_tune.output)\n",
        "    model=Dense(units=256,activation='relu')(model)\n",
        "    model=Dropout(dropout_rate)(model)\n",
        "    model = Dense(num_class, activation='softmax')(model)\n",
        "    model = Model(model_fine_tune.input, model, name='vgg')\n",
        "    opt = keras.optimizers.Adam(lr=lr, beta_1=0.9, beta_2=0.999, epsilon=1e-08)\t#tuned learning rate to be 0.001\n",
        "    model.compile(loss='categorical_crossentropy', optimizer=opt, metrics=['accuracy'])\t#set the loss function to be binary crossentropy\n",
        "    #train model\n",
        "    earlyStopping = kcallbacks.EarlyStopping(\n",
        "        monitor='val_accuracy', patience=patience, verbose=verbose, mode='auto')\t#set early stop patience to save training time\n",
        "    saveBestModel = kcallbacks.ModelCheckpoint(\n",
        "        filepath=savepath,\n",
        "        monitor='val_accuracy',\n",
        "        verbose=verbose,\n",
        "        save_best_only=True,\n",
        "        mode='auto')\n",
        "    hist = model.fit(\n",
        "        train_generator,\n",
        "        steps_per_epoch=len(train_generator),\n",
        "        epochs=epochs,\n",
        "        validation_data=validation_generator,\n",
        "        validation_steps=len(validation_generator),\n",
        "        #use_multiprocessing=True, \n",
        "        #workers=2,\n",
        "        callbacks=[earlyStopping, saveBestModel, history],\n",
        "        verbose = verbose\n",
        "    )\n",
        "    return hist"
      ]
    },
    {
      "cell_type": "code",
      "execution_count": null,
      "metadata": {
        "id": "nBIPSUJU9JR1"
      },
      "outputs": [],
      "source": [
        "def prediction(vgg_model):\n",
        "#read images from validation folder\n",
        "    rootdir = './test_224/'\n",
        "    test_laels = []\n",
        "    test_images=[]\n",
        "    for subdir, dirs, files in os.walk(rootdir):\n",
        "        for file in files:\n",
        "            if not (file.endswith(\".jpeg\"))|(file.endswith(\".jpg\"))|(file.endswith(\".png\")):\n",
        "                continue\n",
        "            test_laels.append(subdir.split('/')[-1])\n",
        "            test_images.append(os.path.join(subdir, file))\n",
        "\n",
        "    predict=[]\n",
        "    length=len(test_images)\n",
        "    label=validation_generator.class_indices\n",
        "    label={v: k for k, v in label.items()}\n",
        "    for i in range(length):\n",
        "        inputimg=test_images[i]\n",
        "        test_batch=[]\n",
        "        thisimg=np.array(Image.open(inputimg))/255 #read all the images in validation set\n",
        "        #print(thisimg)\n",
        "        test_shape=(1,)+thisimg.shape\n",
        "        thisimg=thisimg.reshape(test_shape)\n",
        "        vgg_model_batch=vgg_model.predict(thisimg) #use master model to process the input image\n",
        "        #generate result by model 1\n",
        "        prob=vgg_model_batch[0,np.argmax(vgg_model_batch,axis=1)[0]]\n",
        "        res=label[np.argmax(vgg_model_batch,axis=1)[0]]\n",
        "        predict.append(res)\n",
        "    acc=accuracy_score(test_laels,predict)\n",
        "    return acc"
      ]
    },
    {
      "cell_type": "code",
      "execution_count": null,
      "metadata": {
        "id": "JGL-5K0k9LHh"
      },
      "outputs": [],
      "source": [
        "#define the objective function to be optimized\n",
        "import time\n",
        "from hyperopt import hp, fmin, tpe, rand, STATUS_OK, Trials\n",
        "import matplotlib.pyplot as plt\n",
        "import statistics \n",
        "\n",
        "def objective(params):\n",
        "    \n",
        "    params = {\n",
        "        'frozen': int(params['frozen']),\n",
        "        'epochs': int(params['epochs']),\n",
        "        'patience': int(params['patience']),\n",
        "        'lr': abs(float(params['lr'])),\n",
        "        'dropout_rate': abs(float(params['dropout_rate'])),\n",
        "    }\n",
        "    frozen=params['frozen']\n",
        "    epochs=params['epochs']\n",
        "    patience=params['patience']\n",
        "    lr=params['lr']\n",
        "    dropout_rate=params['dropout_rate']\n",
        "\n",
        "    vgg16(num_class=5, frozen=frozen,epochs=epochs,patience=patience, lr=lr, dropout_rate=dropout_rate)\n",
        "\n",
        "    acc=prediction(vgg_model=load_model('./VGG16.h5'))\n",
        "\n",
        "    print('accuracy:%s'%acc)\n",
        "    return {'loss': -acc, 'status': STATUS_OK }"
      ]
    },
    {
      "cell_type": "code",
      "execution_count": null,
      "metadata": {
        "id": "fdmjFILl9kPZ",
        "colab": {
          "base_uri": "https://localhost:8080/"
        },
        "outputId": "e337976a-4d5d-4ab8-b338-b68ffc772252"
      },
      "outputs": [
        {
          "output_type": "stream",
          "name": "stdout",
          "text": [
            "Epoch 1/2\n",
            "183/183 [==============================] - ETA: 0s - loss: 0.0746 - accuracy: 0.9790\n",
            "Epoch 1: val_accuracy improved from -inf to 1.00000, saving model to ./VGG16.h5\n",
            "183/183 [==============================] - 137s 743ms/step - loss: 0.0746 - accuracy: 0.9790 - val_loss: 4.9682e-08 - val_accuracy: 1.0000\n",
            "Epoch 2/2\n",
            "183/183 [==============================] - ETA: 0s - loss: 5.1431e-05 - accuracy: 1.0000\n",
            "Epoch 2: val_accuracy did not improve from 1.00000\n",
            "183/183 [==============================] - 150s 819ms/step - loss: 5.1431e-05 - accuracy: 1.0000 - val_loss: 4.9356e-09 - val_accuracy: 1.0000\n"
          ]
        },
        {
          "output_type": "execute_result",
          "data": {
            "text/plain": [
              "<keras.callbacks.History at 0x7f7c7376ae50>"
            ]
          },
          "metadata": {},
          "execution_count": 46
        }
      ],
      "source": [
        "# Retrain the model by using the best hyperparameter values to obtain the best model\n",
        "vgg16(num_class=5, frozen=16,epochs=2,patience=3, lr=0.002, dropout_rate=0.6,verbose=1)"
      ]
    },
    {
      "cell_type": "markdown",
      "source": [
        "Ensembling Learning"
      ],
      "metadata": {
        "id": "zcx0g2U4WytO"
      }
    },
    {
      "cell_type": "code",
      "source": [
        "#generate images from train set and validation set\n",
        "TARGET_SIZE=(224,224)\n",
        "INPUT_SIZE=(224,224,3)\n",
        "BATCHSIZE=128\n",
        "\n",
        "test_datagen = ImageDataGenerator(rescale=1./255)\n",
        "\n",
        "\n",
        "validation_generator = test_datagen.flow_from_directory(\n",
        "        './test_224/',\n",
        "        target_size=TARGET_SIZE,\n",
        "        batch_size=BATCHSIZE,\n",
        "        class_mode='categorical')"
      ],
      "metadata": {
        "id": "Zes0cXzHgPGj",
        "colab": {
          "base_uri": "https://localhost:8080/"
        },
        "outputId": "c12975e5-23a5-48b2-f70e-d371e1987ec2"
      },
      "execution_count": null,
      "outputs": [
        {
          "output_type": "stream",
          "name": "stdout",
          "text": [
            "Found 5845 images belonging to 5 classes.\n"
          ]
        }
      ]
    },
    {
      "cell_type": "code",
      "source": [
        "#generate labels indicating disease (1) or normal (0)\n",
        "label=validation_generator.class_indices\n",
        "label={v: k for k, v in label.items()}"
      ],
      "metadata": {
        "id": "MPcL7mwEW4yz"
      },
      "execution_count": null,
      "outputs": []
    },
    {
      "cell_type": "code",
      "source": [
        "print(label)"
      ],
      "metadata": {
        "id": "8DqCcOOOW7L7",
        "colab": {
          "base_uri": "https://localhost:8080/"
        },
        "outputId": "b15af195-7b1f-494d-d3a9-d92cb2a3fba2"
      },
      "execution_count": null,
      "outputs": [
        {
          "output_type": "stream",
          "name": "stdout",
          "text": [
            "{0: '0', 1: '1', 2: '2', 3: '3', 4: '4'}\n"
          ]
        }
      ]
    },
    {
      "cell_type": "code",
      "source": [
        "#read images from validation folder\n",
        "rootdir = './test_224/'\n",
        "test_laels = []\n",
        "test_images=[]\n",
        "for subdir, dirs, files in os.walk(rootdir):\n",
        "    for file in files:\n",
        "        if not (file.endswith(\".jpeg\"))|(file.endswith(\".jpg\"))|(file.endswith(\".png\")):\n",
        "            continue\n",
        "        test_laels.append(subdir.split('/')[-1])\n",
        "        test_images.append(os.path.join(subdir, file))\n",
        "        \n",
        "print(test_laels[0],test_images[0])"
      ],
      "metadata": {
        "id": "sOYr2u3KW-Fy",
        "colab": {
          "base_uri": "https://localhost:8080/"
        },
        "outputId": "81fd67cc-fc84-4303-b36c-3bc6a4ef57a1"
      },
      "execution_count": null,
      "outputs": [
        {
          "output_type": "stream",
          "name": "stdout",
          "text": [
            "2 ./test_224/2/2631.png\n"
          ]
        }
      ]
    },
    {
      "cell_type": "code",
      "source": [
        "#load model 1: xception\n",
        "xception_model=load_model('./xception.h5')\n",
        "\n",
        "#load model 2: VGG16\n",
        "vgg_model=load_model('./VGG16.h5')\n",
        "\n",
        " #load model 3: VGG19\n",
        "vgg19_model=load_model('./VGG19.h5')\n",
        "\n",
        " #load model 4: inception\n",
        "incep_model=load_model('./inception.h5')\n",
        "\n",
        " #load model 5: inceptionresnet\n",
        "inres_model=load_model('./inceptionresnet.h5')"
      ],
      "metadata": {
        "id": "QY76vO7aW_2H"
      },
      "execution_count": null,
      "outputs": []
    },
    {
      "cell_type": "markdown",
      "source": [
        "Bagging ensemble"
      ],
      "metadata": {
        "id": "eDXBmAapq6pz"
      }
    },
    {
      "cell_type": "code",
      "source": [
        "import time\n",
        "predict=[]\n",
        "length=len(test_images)\n",
        "t1 = time.time()\n",
        "for i in range((length//127)+1):\n",
        "    inputimg=test_images[127*i:127*(i+1)]\n",
        "    test_batch=[]\n",
        "    for path in inputimg:\n",
        "        thisimg=np.array(Image.open(path))/255\n",
        "        test_batch.append(thisimg)\n",
        "    #generate result by model 1\n",
        "    xception_model_batch=xception_model.predict(np.array(test_batch))\n",
        "    xception_model_batch=list(np.argmax(xception_model_batch,axis=1))\n",
        "    xception_model_batch=[label[con] for con in xception_model_batch]\n",
        "#     print(xception_model_batch)\n",
        "    #generate result by model 2\n",
        "    vgg_model_batch=vgg_model.predict(np.array(test_batch))\n",
        "    vgg_model_batch=list(np.argmax(vgg_model_batch,axis=1))\n",
        "    vgg_model_batch=[label[con] for con in vgg_model_batch]\n",
        "#     print(vgg_model_batch)\n",
        "    #generate result by model 3\n",
        "    vgg19_model_batch=vgg19_model.predict(np.array(test_batch))\n",
        "    vgg19_model_batch=list(np.argmax(vgg19_model_batch,axis=1))\n",
        "    vgg19_model_batch=[label[con] for con in vgg19_model_batch]\n",
        "#     print(vgg19_model_batch)\n",
        "    #generate result by model 4\n",
        "    incep_model_batch=incep_model.predict(np.array(test_batch))\n",
        "    incep_model_batch=list(np.argmax(incep_model_batch,axis=1))\n",
        "    incep_model_batch=[label[con] for con in incep_model_batch]\n",
        "#     print(incep_model_batch)\n",
        "    #generate result by model 5\n",
        "    inres_model_batch=inres_model.predict(np.array(test_batch))\n",
        "    inres_model_batch=list(np.argmax(inres_model_batch,axis=1))\n",
        "    inres_model_batch=[label[con] for con in inres_model_batch]\n",
        "#     print(inres_model_batch)\n",
        "    #bagging the three results generated by 3 singular models\n",
        "    predict_batch=[]\n",
        "    for i,j,k,p,q in zip(xception_model_batch,vgg_model_batch,vgg19_model_batch,incep_model_batch,inres_model_batch):\n",
        "        count=defaultdict(int)\n",
        "        count[i]+=1\n",
        "        count[j]+=1\n",
        "        count[k]+=1\n",
        "        count[p]+=1\n",
        "        count[q]+=1\n",
        "        #rank the predicted results in descending order\n",
        "        predict_one=sorted(count.items(), key=operator.itemgetter(1),reverse=True)[0][0]\n",
        "        predict_batch.append(predict_one)\n",
        "#     print('predict:',predict_batch)\n",
        "    predict.append(predict_batch)\n",
        "t2 = time.time()\n",
        "print('The testing time is :%f seconds' % (t2-t1))"
      ],
      "metadata": {
        "id": "FYz_Az51q5E9",
        "colab": {
          "base_uri": "https://localhost:8080/"
        },
        "outputId": "948f4f4b-cf51-42e4-aad0-604a6895f336"
      },
      "execution_count": null,
      "outputs": [
        {
          "output_type": "stream",
          "name": "stdout",
          "text": [
            "4/4 [==============================] - 5s 700ms/step\n",
            "4/4 [==============================] - 9s 2s/step\n",
            "4/4 [==============================] - 1s 144ms/step\n",
            "4/4 [==============================] - 5s 604ms/step\n",
            "4/4 [==============================] - 6s 497ms/step\n",
            "4/4 [==============================] - 0s 135ms/step\n",
            "4/4 [==============================] - 0s 119ms/step\n",
            "4/4 [==============================] - 0s 147ms/step\n",
            "4/4 [==============================] - 0s 65ms/step\n",
            "4/4 [==============================] - 1s 167ms/step\n",
            "4/4 [==============================] - 0s 135ms/step\n",
            "4/4 [==============================] - 0s 123ms/step\n",
            "4/4 [==============================] - 0s 147ms/step\n",
            "4/4 [==============================] - 0s 64ms/step\n",
            "4/4 [==============================] - 1s 164ms/step\n",
            "4/4 [==============================] - 0s 136ms/step\n",
            "4/4 [==============================] - 0s 124ms/step\n",
            "4/4 [==============================] - 0s 150ms/step\n",
            "4/4 [==============================] - 0s 64ms/step\n",
            "4/4 [==============================] - 1s 163ms/step\n",
            "4/4 [==============================] - 0s 136ms/step\n",
            "4/4 [==============================] - 0s 126ms/step\n",
            "4/4 [==============================] - 1s 154ms/step\n",
            "4/4 [==============================] - 0s 65ms/step\n",
            "4/4 [==============================] - 1s 167ms/step\n",
            "4/4 [==============================] - 0s 137ms/step\n",
            "4/4 [==============================] - 0s 126ms/step\n",
            "4/4 [==============================] - 1s 153ms/step\n",
            "4/4 [==============================] - 0s 64ms/step\n",
            "4/4 [==============================] - 1s 162ms/step\n",
            "4/4 [==============================] - 0s 136ms/step\n",
            "4/4 [==============================] - 0s 125ms/step\n",
            "4/4 [==============================] - 1s 152ms/step\n",
            "4/4 [==============================] - 0s 63ms/step\n",
            "4/4 [==============================] - 1s 164ms/step\n",
            "4/4 [==============================] - 0s 137ms/step\n",
            "4/4 [==============================] - 0s 127ms/step\n",
            "4/4 [==============================] - 0s 151ms/step\n",
            "4/4 [==============================] - 0s 64ms/step\n",
            "4/4 [==============================] - 1s 166ms/step\n",
            "4/4 [==============================] - 0s 136ms/step\n",
            "4/4 [==============================] - 0s 125ms/step\n",
            "4/4 [==============================] - 0s 151ms/step\n",
            "4/4 [==============================] - 0s 63ms/step\n",
            "4/4 [==============================] - 1s 161ms/step\n",
            "4/4 [==============================] - 0s 134ms/step\n",
            "4/4 [==============================] - 0s 124ms/step\n",
            "4/4 [==============================] - 0s 149ms/step\n",
            "4/4 [==============================] - 0s 63ms/step\n",
            "4/4 [==============================] - 1s 162ms/step\n",
            "4/4 [==============================] - 0s 138ms/step\n",
            "4/4 [==============================] - 0s 124ms/step\n",
            "4/4 [==============================] - 0s 150ms/step\n",
            "4/4 [==============================] - 0s 64ms/step\n",
            "4/4 [==============================] - 1s 161ms/step\n",
            "4/4 [==============================] - 0s 133ms/step\n",
            "4/4 [==============================] - 0s 124ms/step\n",
            "4/4 [==============================] - 0s 150ms/step\n",
            "4/4 [==============================] - 0s 64ms/step\n",
            "4/4 [==============================] - 1s 161ms/step\n",
            "4/4 [==============================] - 0s 132ms/step\n",
            "4/4 [==============================] - 0s 122ms/step\n",
            "4/4 [==============================] - 0s 148ms/step\n",
            "4/4 [==============================] - 0s 64ms/step\n",
            "4/4 [==============================] - 1s 161ms/step\n",
            "4/4 [==============================] - 0s 134ms/step\n",
            "4/4 [==============================] - 0s 128ms/step\n",
            "4/4 [==============================] - 1s 151ms/step\n",
            "4/4 [==============================] - 0s 65ms/step\n",
            "4/4 [==============================] - 1s 166ms/step\n",
            "4/4 [==============================] - 0s 134ms/step\n",
            "4/4 [==============================] - 0s 122ms/step\n",
            "4/4 [==============================] - 0s 151ms/step\n",
            "4/4 [==============================] - 0s 65ms/step\n",
            "4/4 [==============================] - 1s 163ms/step\n",
            "4/4 [==============================] - 0s 134ms/step\n",
            "4/4 [==============================] - 0s 123ms/step\n",
            "4/4 [==============================] - 0s 149ms/step\n",
            "4/4 [==============================] - 0s 63ms/step\n",
            "4/4 [==============================] - 1s 162ms/step\n",
            "4/4 [==============================] - 0s 136ms/step\n",
            "4/4 [==============================] - 0s 126ms/step\n",
            "4/4 [==============================] - 1s 152ms/step\n",
            "4/4 [==============================] - 0s 66ms/step\n",
            "4/4 [==============================] - 1s 166ms/step\n",
            "4/4 [==============================] - 0s 134ms/step\n",
            "4/4 [==============================] - 0s 122ms/step\n",
            "4/4 [==============================] - 0s 151ms/step\n",
            "4/4 [==============================] - 0s 64ms/step\n",
            "4/4 [==============================] - 1s 162ms/step\n",
            "4/4 [==============================] - 0s 134ms/step\n",
            "4/4 [==============================] - 0s 125ms/step\n",
            "4/4 [==============================] - 0s 152ms/step\n",
            "4/4 [==============================] - 0s 62ms/step\n",
            "4/4 [==============================] - 1s 162ms/step\n",
            "4/4 [==============================] - 0s 135ms/step\n",
            "4/4 [==============================] - 0s 126ms/step\n",
            "4/4 [==============================] - 1s 152ms/step\n",
            "4/4 [==============================] - 0s 64ms/step\n",
            "4/4 [==============================] - 1s 163ms/step\n",
            "4/4 [==============================] - 0s 134ms/step\n",
            "4/4 [==============================] - 0s 125ms/step\n",
            "4/4 [==============================] - 0s 152ms/step\n",
            "4/4 [==============================] - 0s 65ms/step\n",
            "4/4 [==============================] - 1s 163ms/step\n",
            "4/4 [==============================] - 0s 134ms/step\n",
            "4/4 [==============================] - 0s 124ms/step\n",
            "4/4 [==============================] - 0s 150ms/step\n",
            "4/4 [==============================] - 0s 66ms/step\n",
            "4/4 [==============================] - 1s 165ms/step\n",
            "4/4 [==============================] - 0s 137ms/step\n",
            "4/4 [==============================] - 0s 125ms/step\n",
            "4/4 [==============================] - 1s 155ms/step\n",
            "4/4 [==============================] - 0s 64ms/step\n",
            "4/4 [==============================] - 1s 164ms/step\n",
            "4/4 [==============================] - 0s 134ms/step\n",
            "4/4 [==============================] - 0s 124ms/step\n",
            "4/4 [==============================] - 0s 152ms/step\n",
            "4/4 [==============================] - 0s 64ms/step\n",
            "4/4 [==============================] - 1s 162ms/step\n",
            "4/4 [==============================] - 0s 134ms/step\n",
            "4/4 [==============================] - 0s 124ms/step\n",
            "4/4 [==============================] - 0s 148ms/step\n",
            "4/4 [==============================] - 0s 63ms/step\n",
            "4/4 [==============================] - 1s 166ms/step\n",
            "4/4 [==============================] - 0s 136ms/step\n",
            "4/4 [==============================] - 0s 124ms/step\n",
            "4/4 [==============================] - 0s 147ms/step\n",
            "4/4 [==============================] - 0s 64ms/step\n",
            "4/4 [==============================] - 1s 162ms/step\n",
            "4/4 [==============================] - 0s 134ms/step\n",
            "4/4 [==============================] - 0s 125ms/step\n",
            "4/4 [==============================] - 0s 151ms/step\n",
            "4/4 [==============================] - 0s 63ms/step\n",
            "4/4 [==============================] - 1s 162ms/step\n",
            "4/4 [==============================] - 0s 134ms/step\n",
            "4/4 [==============================] - 0s 124ms/step\n",
            "4/4 [==============================] - 0s 150ms/step\n",
            "4/4 [==============================] - 0s 64ms/step\n",
            "4/4 [==============================] - 1s 165ms/step\n",
            "4/4 [==============================] - 0s 136ms/step\n",
            "4/4 [==============================] - 0s 127ms/step\n",
            "4/4 [==============================] - 1s 151ms/step\n",
            "4/4 [==============================] - 0s 66ms/step\n",
            "4/4 [==============================] - 1s 161ms/step\n",
            "4/4 [==============================] - 0s 133ms/step\n",
            "4/4 [==============================] - 0s 124ms/step\n",
            "4/4 [==============================] - 0s 150ms/step\n",
            "4/4 [==============================] - 0s 63ms/step\n",
            "4/4 [==============================] - 1s 161ms/step\n",
            "4/4 [==============================] - 0s 134ms/step\n",
            "4/4 [==============================] - 0s 123ms/step\n",
            "4/4 [==============================] - 0s 152ms/step\n",
            "4/4 [==============================] - 0s 65ms/step\n",
            "4/4 [==============================] - 1s 167ms/step\n",
            "4/4 [==============================] - 0s 135ms/step\n",
            "4/4 [==============================] - 0s 123ms/step\n",
            "4/4 [==============================] - 0s 151ms/step\n",
            "4/4 [==============================] - 0s 63ms/step\n",
            "4/4 [==============================] - 1s 163ms/step\n",
            "4/4 [==============================] - 0s 134ms/step\n",
            "4/4 [==============================] - 0s 125ms/step\n",
            "4/4 [==============================] - 0s 150ms/step\n",
            "4/4 [==============================] - 0s 64ms/step\n",
            "4/4 [==============================] - 1s 163ms/step\n",
            "4/4 [==============================] - 0s 135ms/step\n",
            "4/4 [==============================] - 0s 125ms/step\n",
            "4/4 [==============================] - 1s 153ms/step\n",
            "4/4 [==============================] - 0s 67ms/step\n",
            "4/4 [==============================] - 1s 168ms/step\n",
            "4/4 [==============================] - 0s 134ms/step\n",
            "4/4 [==============================] - 0s 124ms/step\n",
            "4/4 [==============================] - 0s 150ms/step\n",
            "4/4 [==============================] - 0s 63ms/step\n",
            "4/4 [==============================] - 1s 163ms/step\n",
            "4/4 [==============================] - 0s 134ms/step\n",
            "4/4 [==============================] - 0s 126ms/step\n",
            "4/4 [==============================] - 0s 150ms/step\n",
            "4/4 [==============================] - 0s 64ms/step\n",
            "4/4 [==============================] - 1s 164ms/step\n",
            "4/4 [==============================] - 0s 136ms/step\n",
            "4/4 [==============================] - 0s 127ms/step\n",
            "4/4 [==============================] - 1s 151ms/step\n",
            "4/4 [==============================] - 0s 68ms/step\n",
            "4/4 [==============================] - 1s 163ms/step\n",
            "4/4 [==============================] - 0s 134ms/step\n",
            "4/4 [==============================] - 0s 125ms/step\n",
            "4/4 [==============================] - 0s 151ms/step\n",
            "4/4 [==============================] - 0s 63ms/step\n",
            "4/4 [==============================] - 1s 163ms/step\n",
            "4/4 [==============================] - 0s 135ms/step\n",
            "4/4 [==============================] - 0s 122ms/step\n",
            "4/4 [==============================] - 0s 151ms/step\n",
            "4/4 [==============================] - 0s 64ms/step\n",
            "4/4 [==============================] - 1s 162ms/step\n",
            "4/4 [==============================] - 0s 136ms/step\n",
            "4/4 [==============================] - 0s 127ms/step\n",
            "4/4 [==============================] - 1s 153ms/step\n",
            "4/4 [==============================] - 0s 65ms/step\n",
            "4/4 [==============================] - 1s 163ms/step\n",
            "4/4 [==============================] - 0s 136ms/step\n",
            "4/4 [==============================] - 0s 125ms/step\n",
            "4/4 [==============================] - 0s 150ms/step\n",
            "4/4 [==============================] - 0s 63ms/step\n",
            "4/4 [==============================] - 1s 161ms/step\n",
            "4/4 [==============================] - 0s 135ms/step\n",
            "4/4 [==============================] - 0s 125ms/step\n",
            "4/4 [==============================] - 0s 152ms/step\n",
            "4/4 [==============================] - 0s 67ms/step\n",
            "4/4 [==============================] - 1s 166ms/step\n",
            "4/4 [==============================] - 0s 136ms/step\n",
            "4/4 [==============================] - 0s 124ms/step\n",
            "4/4 [==============================] - 0s 152ms/step\n",
            "4/4 [==============================] - 0s 64ms/step\n",
            "4/4 [==============================] - 1s 163ms/step\n",
            "4/4 [==============================] - 0s 133ms/step\n",
            "4/4 [==============================] - 0s 111ms/step\n",
            "4/4 [==============================] - 0s 136ms/step\n",
            "4/4 [==============================] - 0s 63ms/step\n",
            "4/4 [==============================] - 1s 162ms/step\n",
            "4/4 [==============================] - 0s 132ms/step\n",
            "4/4 [==============================] - 0s 113ms/step\n",
            "4/4 [==============================] - 0s 137ms/step\n",
            "4/4 [==============================] - 0s 65ms/step\n",
            "4/4 [==============================] - 1s 160ms/step\n",
            "4/4 [==============================] - 0s 134ms/step\n",
            "4/4 [==============================] - 0s 124ms/step\n",
            "4/4 [==============================] - 0s 151ms/step\n",
            "4/4 [==============================] - 0s 63ms/step\n",
            "4/4 [==============================] - 1s 162ms/step\n",
            "1/1 [==============================] - 0s 378ms/step\n",
            "1/1 [==============================] - 1s 818ms/step\n",
            "1/1 [==============================] - 0s 21ms/step\n",
            "1/1 [==============================] - 1s 863ms/step\n",
            "1/1 [==============================] - 1s 573ms/step\n",
            "The testing time is :245.893239 seconds\n"
          ]
        }
      ]
    },
    {
      "cell_type": "code",
      "source": [
        "predict=sum(predict,[])"
      ],
      "metadata": {
        "id": "fL1pqjSMq9aQ"
      },
      "execution_count": null,
      "outputs": []
    },
    {
      "cell_type": "code",
      "source": [
        "from sklearn.metrics import accuracy_score,precision_score,recall_score,f1_score\n",
        "acc=accuracy_score(test_laels,predict)\n",
        "print('bagging accuracy:%s'%acc)"
      ],
      "metadata": {
        "id": "e2AX3cMwq-vT",
        "colab": {
          "base_uri": "https://localhost:8080/"
        },
        "outputId": "5334d406-2bda-43c1-8883-cf6a266da5b6"
      },
      "execution_count": null,
      "outputs": [
        {
          "output_type": "stream",
          "name": "stdout",
          "text": [
            "bagging accuracy:1.0\n"
          ]
        }
      ]
    },
    {
      "cell_type": "code",
      "source": [
        "from sklearn.metrics import classification_report, confusion_matrix\n",
        "print(confusion_matrix(test_laels, predict))\n",
        "target_names = ['0', '1','2','3','4']\n",
        "print(classification_report(test_laels, predict, target_names=target_names))"
      ],
      "metadata": {
        "id": "Q-P8qLMqq_8u",
        "colab": {
          "base_uri": "https://localhost:8080/"
        },
        "outputId": "f36b8c0e-7e3e-4768-933b-5b05325a6a8d"
      },
      "execution_count": null,
      "outputs": [
        {
          "output_type": "stream",
          "name": "stdout",
          "text": [
            "[[5020    0    0    0    0]\n",
            " [   0  230    0    0    0]\n",
            " [   0    0  201    0    0]\n",
            " [   0    0    0  221    0]\n",
            " [   0    0    0    0  173]]\n",
            "              precision    recall  f1-score   support\n",
            "\n",
            "           0       1.00      1.00      1.00      5020\n",
            "           1       1.00      1.00      1.00       230\n",
            "           2       1.00      1.00      1.00       201\n",
            "           3       1.00      1.00      1.00       221\n",
            "           4       1.00      1.00      1.00       173\n",
            "\n",
            "    accuracy                           1.00      5845\n",
            "   macro avg       1.00      1.00      1.00      5845\n",
            "weighted avg       1.00      1.00      1.00      5845\n",
            "\n"
          ]
        }
      ]
    },
    {
      "cell_type": "markdown",
      "source": [
        "Construct the ensemble model using the last \"dense layer\" of each base CNN model"
      ],
      "metadata": {
        "id": "pYppuAIDrIgn"
      }
    },
    {
      "cell_type": "code",
      "source": [
        "import keras\n",
        "from keras.models import Model,load_model\n",
        "from keras import Input\n",
        "from keras.layers import concatenate,Dense,Flatten,Dropout\n",
        "from keras.preprocessing.image import  ImageDataGenerator\n",
        "import keras.callbacks as kcallbacks\n",
        "import os\n",
        "import math\n",
        "from keras.utils import plot_model\n",
        "from keras.callbacks import EarlyStopping, ReduceLROnPlateau, ModelCheckpoint, LearningRateScheduler\n",
        "from keras.optimizers import SGD"
      ],
      "metadata": {
        "id": "t6DTCM45CqSq"
      },
      "execution_count": null,
      "outputs": []
    },
    {
      "cell_type": "code",
      "source": [
        "for i,layer in enumerate(xception_model.layers):\n",
        "    print(i,layer.name)"
      ],
      "metadata": {
        "id": "cciA2VtiCsOj",
        "colab": {
          "base_uri": "https://localhost:8080/"
        },
        "outputId": "1446ae30-8fed-4073-81c8-fe6b648ba155"
      },
      "execution_count": null,
      "outputs": [
        {
          "output_type": "stream",
          "name": "stdout",
          "text": [
            "0 input_1\n",
            "1 block1_conv1\n",
            "2 block1_conv1_bn\n",
            "3 block1_conv1_act\n",
            "4 block1_conv2\n",
            "5 block1_conv2_bn\n",
            "6 block1_conv2_act\n",
            "7 block2_sepconv1\n",
            "8 block2_sepconv1_bn\n",
            "9 block2_sepconv2_act\n",
            "10 block2_sepconv2\n",
            "11 block2_sepconv2_bn\n",
            "12 conv2d_7\n",
            "13 block2_pool\n",
            "14 batch_normalization\n",
            "15 add\n",
            "16 block3_sepconv1_act\n",
            "17 block3_sepconv1\n",
            "18 block3_sepconv1_bn\n",
            "19 block3_sepconv2_act\n",
            "20 block3_sepconv2\n",
            "21 block3_sepconv2_bn\n",
            "22 conv2d_8\n",
            "23 block3_pool\n",
            "24 batch_normalization_1\n",
            "25 add_1\n",
            "26 block4_sepconv1_act\n",
            "27 block4_sepconv1\n",
            "28 block4_sepconv1_bn\n",
            "29 block4_sepconv2_act\n",
            "30 block4_sepconv2\n",
            "31 block4_sepconv2_bn\n",
            "32 conv2d_9\n",
            "33 block4_pool\n",
            "34 batch_normalization_2\n",
            "35 add_2\n",
            "36 block5_sepconv1_act\n",
            "37 block5_sepconv1\n",
            "38 block5_sepconv1_bn\n",
            "39 block5_sepconv2_act\n",
            "40 block5_sepconv2\n",
            "41 block5_sepconv2_bn\n",
            "42 block5_sepconv3_act\n",
            "43 block5_sepconv3\n",
            "44 block5_sepconv3_bn\n",
            "45 add_3\n",
            "46 block6_sepconv1_act\n",
            "47 block6_sepconv1\n",
            "48 block6_sepconv1_bn\n",
            "49 block6_sepconv2_act\n",
            "50 block6_sepconv2\n",
            "51 block6_sepconv2_bn\n",
            "52 block6_sepconv3_act\n",
            "53 block6_sepconv3\n",
            "54 block6_sepconv3_bn\n",
            "55 add_4\n",
            "56 block7_sepconv1_act\n",
            "57 block7_sepconv1\n",
            "58 block7_sepconv1_bn\n",
            "59 block7_sepconv2_act\n",
            "60 block7_sepconv2\n",
            "61 block7_sepconv2_bn\n",
            "62 block7_sepconv3_act\n",
            "63 block7_sepconv3\n",
            "64 block7_sepconv3_bn\n",
            "65 add_5\n",
            "66 block8_sepconv1_act\n",
            "67 block8_sepconv1\n",
            "68 block8_sepconv1_bn\n",
            "69 block8_sepconv2_act\n",
            "70 block8_sepconv2\n",
            "71 block8_sepconv2_bn\n",
            "72 block8_sepconv3_act\n",
            "73 block8_sepconv3\n",
            "74 block8_sepconv3_bn\n",
            "75 add_6\n",
            "76 block9_sepconv1_act\n",
            "77 block9_sepconv1\n",
            "78 block9_sepconv1_bn\n",
            "79 block9_sepconv2_act\n",
            "80 block9_sepconv2\n",
            "81 block9_sepconv2_bn\n",
            "82 block9_sepconv3_act\n",
            "83 block9_sepconv3\n",
            "84 block9_sepconv3_bn\n",
            "85 add_7\n",
            "86 block10_sepconv1_act\n",
            "87 block10_sepconv1\n",
            "88 block10_sepconv1_bn\n",
            "89 block10_sepconv2_act\n",
            "90 block10_sepconv2\n",
            "91 block10_sepconv2_bn\n",
            "92 block10_sepconv3_act\n",
            "93 block10_sepconv3\n",
            "94 block10_sepconv3_bn\n",
            "95 add_8\n",
            "96 block11_sepconv1_act\n",
            "97 block11_sepconv1\n",
            "98 block11_sepconv1_bn\n",
            "99 block11_sepconv2_act\n",
            "100 block11_sepconv2\n",
            "101 block11_sepconv2_bn\n",
            "102 block11_sepconv3_act\n",
            "103 block11_sepconv3\n",
            "104 block11_sepconv3_bn\n",
            "105 add_9\n",
            "106 block12_sepconv1_act\n",
            "107 block12_sepconv1\n",
            "108 block12_sepconv1_bn\n",
            "109 block12_sepconv2_act\n",
            "110 block12_sepconv2\n",
            "111 block12_sepconv2_bn\n",
            "112 block12_sepconv3_act\n",
            "113 block12_sepconv3\n",
            "114 block12_sepconv3_bn\n",
            "115 add_10\n",
            "116 block13_sepconv1_act\n",
            "117 block13_sepconv1\n",
            "118 block13_sepconv1_bn\n",
            "119 block13_sepconv2_act\n",
            "120 block13_sepconv2\n",
            "121 block13_sepconv2_bn\n",
            "122 conv2d_10\n",
            "123 block13_pool\n",
            "124 batch_normalization_3\n",
            "125 add_11\n",
            "126 block14_sepconv1\n",
            "127 block14_sepconv1_bn\n",
            "128 block14_sepconv1_act\n",
            "129 block14_sepconv2\n",
            "130 block14_sepconv2_bn\n",
            "131 block14_sepconv2_act\n",
            "132 global_average_pooling2d_1\n",
            "133 dense_2\n",
            "134 dropout_1\n",
            "135 dense_3\n"
          ]
        }
      ]
    },
    {
      "cell_type": "code",
      "source": [
        "for i,layer in enumerate(vgg_model.layers):\n",
        "    print(i,layer.name)"
      ],
      "metadata": {
        "id": "nP8JfyzQCusL",
        "colab": {
          "base_uri": "https://localhost:8080/"
        },
        "outputId": "833aab46-df31-4816-b126-64ee3c04f323"
      },
      "execution_count": null,
      "outputs": [
        {
          "output_type": "stream",
          "name": "stdout",
          "text": [
            "0 input_7\n",
            "1 block1_conv1\n",
            "2 block1_conv2\n",
            "3 block1_pool\n",
            "4 block2_conv1\n",
            "5 block2_conv2\n",
            "6 block2_pool\n",
            "7 block3_conv1\n",
            "8 block3_conv2\n",
            "9 block3_conv3\n",
            "10 block3_pool\n",
            "11 block4_conv1\n",
            "12 block4_conv2\n",
            "13 block4_conv3\n",
            "14 block4_pool\n",
            "15 block5_conv1\n",
            "16 block5_conv2\n",
            "17 block5_conv3\n",
            "18 block5_pool\n",
            "19 global_average_pooling2d_7\n",
            "20 dense_14\n",
            "21 dropout_7\n",
            "22 dense_15\n"
          ]
        }
      ]
    },
    {
      "cell_type": "code",
      "source": [
        "for i,layer in enumerate(vgg19_model.layers):\n",
        "    print(i,layer.name)"
      ],
      "metadata": {
        "id": "Nqz00JlMCw6b",
        "colab": {
          "base_uri": "https://localhost:8080/"
        },
        "outputId": "3d7e49ac-5b1b-44e5-bd12-977df9880fc2"
      },
      "execution_count": null,
      "outputs": [
        {
          "output_type": "stream",
          "name": "stdout",
          "text": [
            "0 input_3\n",
            "1 block1_conv1\n",
            "2 block1_conv2\n",
            "3 block1_pool\n",
            "4 block2_conv1\n",
            "5 block2_conv2\n",
            "6 block2_pool\n",
            "7 block3_conv1\n",
            "8 block3_conv2\n",
            "9 block3_conv3\n",
            "10 block3_conv4\n",
            "11 block3_pool\n",
            "12 block4_conv1\n",
            "13 block4_conv2\n",
            "14 block4_conv3\n",
            "15 block4_conv4\n",
            "16 block4_pool\n",
            "17 block5_conv1\n",
            "18 block5_conv2\n",
            "19 block5_conv3\n",
            "20 block5_conv4\n",
            "21 block5_pool\n",
            "22 global_average_pooling2d_3\n",
            "23 dense_6\n",
            "24 dropout_3\n",
            "25 dense_7\n"
          ]
        }
      ]
    },
    {
      "cell_type": "code",
      "source": [
        "for i,layer in enumerate(incep_model.layers):\n",
        "    print(i,layer.name)\n",
        "ensemble_model=load_model(\"./VGG19.h5\")"
      ],
      "metadata": {
        "id": "zidqoKzYCzI7",
        "colab": {
          "base_uri": "https://localhost:8080/"
        },
        "outputId": "2a63ac16-202e-4aeb-9061-717107355695"
      },
      "execution_count": null,
      "outputs": [
        {
          "output_type": "stream",
          "name": "stdout",
          "text": [
            "0 input_5\n",
            "1 conv2d_11\n",
            "2 batch_normalization_4\n",
            "3 activation\n",
            "4 conv2d_12\n",
            "5 batch_normalization_5\n",
            "6 activation_1\n",
            "7 conv2d_13\n",
            "8 batch_normalization_6\n",
            "9 activation_2\n",
            "10 max_pooling2d_2\n",
            "11 conv2d_14\n",
            "12 batch_normalization_7\n",
            "13 activation_3\n",
            "14 conv2d_15\n",
            "15 batch_normalization_8\n",
            "16 activation_4\n",
            "17 max_pooling2d_3\n",
            "18 conv2d_19\n",
            "19 batch_normalization_12\n",
            "20 activation_8\n",
            "21 conv2d_17\n",
            "22 conv2d_20\n",
            "23 batch_normalization_10\n",
            "24 batch_normalization_13\n",
            "25 activation_6\n",
            "26 activation_9\n",
            "27 average_pooling2d\n",
            "28 conv2d_16\n",
            "29 conv2d_18\n",
            "30 conv2d_21\n",
            "31 conv2d_22\n",
            "32 batch_normalization_9\n",
            "33 batch_normalization_11\n",
            "34 batch_normalization_14\n",
            "35 batch_normalization_15\n",
            "36 activation_5\n",
            "37 activation_7\n",
            "38 activation_10\n",
            "39 activation_11\n",
            "40 mixed0\n",
            "41 conv2d_26\n",
            "42 batch_normalization_19\n",
            "43 activation_15\n",
            "44 conv2d_24\n",
            "45 conv2d_27\n",
            "46 batch_normalization_17\n",
            "47 batch_normalization_20\n",
            "48 activation_13\n",
            "49 activation_16\n",
            "50 average_pooling2d_1\n",
            "51 conv2d_23\n",
            "52 conv2d_25\n",
            "53 conv2d_28\n",
            "54 conv2d_29\n",
            "55 batch_normalization_16\n",
            "56 batch_normalization_18\n",
            "57 batch_normalization_21\n",
            "58 batch_normalization_22\n",
            "59 activation_12\n",
            "60 activation_14\n",
            "61 activation_17\n",
            "62 activation_18\n",
            "63 mixed1\n",
            "64 conv2d_33\n",
            "65 batch_normalization_26\n",
            "66 activation_22\n",
            "67 conv2d_31\n",
            "68 conv2d_34\n",
            "69 batch_normalization_24\n",
            "70 batch_normalization_27\n",
            "71 activation_20\n",
            "72 activation_23\n",
            "73 average_pooling2d_2\n",
            "74 conv2d_30\n",
            "75 conv2d_32\n",
            "76 conv2d_35\n",
            "77 conv2d_36\n",
            "78 batch_normalization_23\n",
            "79 batch_normalization_25\n",
            "80 batch_normalization_28\n",
            "81 batch_normalization_29\n",
            "82 activation_19\n",
            "83 activation_21\n",
            "84 activation_24\n",
            "85 activation_25\n",
            "86 mixed2\n",
            "87 conv2d_38\n",
            "88 batch_normalization_31\n",
            "89 activation_27\n",
            "90 conv2d_39\n",
            "91 batch_normalization_32\n",
            "92 activation_28\n",
            "93 conv2d_37\n",
            "94 conv2d_40\n",
            "95 batch_normalization_30\n",
            "96 batch_normalization_33\n",
            "97 activation_26\n",
            "98 activation_29\n",
            "99 max_pooling2d_4\n",
            "100 mixed3\n",
            "101 conv2d_45\n",
            "102 batch_normalization_38\n",
            "103 activation_34\n",
            "104 conv2d_46\n",
            "105 batch_normalization_39\n",
            "106 activation_35\n",
            "107 conv2d_42\n",
            "108 conv2d_47\n",
            "109 batch_normalization_35\n",
            "110 batch_normalization_40\n",
            "111 activation_31\n",
            "112 activation_36\n",
            "113 conv2d_43\n",
            "114 conv2d_48\n",
            "115 batch_normalization_36\n",
            "116 batch_normalization_41\n",
            "117 activation_32\n",
            "118 activation_37\n",
            "119 average_pooling2d_3\n",
            "120 conv2d_41\n",
            "121 conv2d_44\n",
            "122 conv2d_49\n",
            "123 conv2d_50\n",
            "124 batch_normalization_34\n",
            "125 batch_normalization_37\n",
            "126 batch_normalization_42\n",
            "127 batch_normalization_43\n",
            "128 activation_30\n",
            "129 activation_33\n",
            "130 activation_38\n",
            "131 activation_39\n",
            "132 mixed4\n",
            "133 conv2d_55\n",
            "134 batch_normalization_48\n",
            "135 activation_44\n",
            "136 conv2d_56\n",
            "137 batch_normalization_49\n",
            "138 activation_45\n",
            "139 conv2d_52\n",
            "140 conv2d_57\n",
            "141 batch_normalization_45\n",
            "142 batch_normalization_50\n",
            "143 activation_41\n",
            "144 activation_46\n",
            "145 conv2d_53\n",
            "146 conv2d_58\n",
            "147 batch_normalization_46\n",
            "148 batch_normalization_51\n",
            "149 activation_42\n",
            "150 activation_47\n",
            "151 average_pooling2d_4\n",
            "152 conv2d_51\n",
            "153 conv2d_54\n",
            "154 conv2d_59\n",
            "155 conv2d_60\n",
            "156 batch_normalization_44\n",
            "157 batch_normalization_47\n",
            "158 batch_normalization_52\n",
            "159 batch_normalization_53\n",
            "160 activation_40\n",
            "161 activation_43\n",
            "162 activation_48\n",
            "163 activation_49\n",
            "164 mixed5\n",
            "165 conv2d_65\n",
            "166 batch_normalization_58\n",
            "167 activation_54\n",
            "168 conv2d_66\n",
            "169 batch_normalization_59\n",
            "170 activation_55\n",
            "171 conv2d_62\n",
            "172 conv2d_67\n",
            "173 batch_normalization_55\n",
            "174 batch_normalization_60\n",
            "175 activation_51\n",
            "176 activation_56\n",
            "177 conv2d_63\n",
            "178 conv2d_68\n",
            "179 batch_normalization_56\n",
            "180 batch_normalization_61\n",
            "181 activation_52\n",
            "182 activation_57\n",
            "183 average_pooling2d_5\n",
            "184 conv2d_61\n",
            "185 conv2d_64\n",
            "186 conv2d_69\n",
            "187 conv2d_70\n",
            "188 batch_normalization_54\n",
            "189 batch_normalization_57\n",
            "190 batch_normalization_62\n",
            "191 batch_normalization_63\n",
            "192 activation_50\n",
            "193 activation_53\n",
            "194 activation_58\n",
            "195 activation_59\n",
            "196 mixed6\n",
            "197 conv2d_75\n",
            "198 batch_normalization_68\n",
            "199 activation_64\n",
            "200 conv2d_76\n",
            "201 batch_normalization_69\n",
            "202 activation_65\n",
            "203 conv2d_72\n",
            "204 conv2d_77\n",
            "205 batch_normalization_65\n",
            "206 batch_normalization_70\n",
            "207 activation_61\n",
            "208 activation_66\n",
            "209 conv2d_73\n",
            "210 conv2d_78\n",
            "211 batch_normalization_66\n",
            "212 batch_normalization_71\n",
            "213 activation_62\n",
            "214 activation_67\n",
            "215 average_pooling2d_6\n",
            "216 conv2d_71\n",
            "217 conv2d_74\n",
            "218 conv2d_79\n",
            "219 conv2d_80\n",
            "220 batch_normalization_64\n",
            "221 batch_normalization_67\n",
            "222 batch_normalization_72\n",
            "223 batch_normalization_73\n",
            "224 activation_60\n",
            "225 activation_63\n",
            "226 activation_68\n",
            "227 activation_69\n",
            "228 mixed7\n",
            "229 conv2d_83\n",
            "230 batch_normalization_76\n",
            "231 activation_72\n",
            "232 conv2d_84\n",
            "233 batch_normalization_77\n",
            "234 activation_73\n",
            "235 conv2d_81\n",
            "236 conv2d_85\n",
            "237 batch_normalization_74\n",
            "238 batch_normalization_78\n",
            "239 activation_70\n",
            "240 activation_74\n",
            "241 conv2d_82\n",
            "242 conv2d_86\n",
            "243 batch_normalization_75\n",
            "244 batch_normalization_79\n",
            "245 activation_71\n",
            "246 activation_75\n",
            "247 max_pooling2d_5\n",
            "248 mixed8\n",
            "249 conv2d_91\n",
            "250 batch_normalization_84\n",
            "251 activation_80\n",
            "252 conv2d_88\n",
            "253 conv2d_92\n",
            "254 batch_normalization_81\n",
            "255 batch_normalization_85\n",
            "256 activation_77\n",
            "257 activation_81\n",
            "258 conv2d_89\n",
            "259 conv2d_90\n",
            "260 conv2d_93\n",
            "261 conv2d_94\n",
            "262 average_pooling2d_7\n",
            "263 conv2d_87\n",
            "264 batch_normalization_82\n",
            "265 batch_normalization_83\n",
            "266 batch_normalization_86\n",
            "267 batch_normalization_87\n",
            "268 conv2d_95\n",
            "269 batch_normalization_80\n",
            "270 activation_78\n",
            "271 activation_79\n",
            "272 activation_82\n",
            "273 activation_83\n",
            "274 batch_normalization_88\n",
            "275 activation_76\n",
            "276 mixed9_0\n",
            "277 concatenate\n",
            "278 activation_84\n",
            "279 mixed9\n",
            "280 conv2d_100\n",
            "281 batch_normalization_93\n",
            "282 activation_89\n",
            "283 conv2d_97\n",
            "284 conv2d_101\n",
            "285 batch_normalization_90\n",
            "286 batch_normalization_94\n",
            "287 activation_86\n",
            "288 activation_90\n",
            "289 conv2d_98\n",
            "290 conv2d_99\n",
            "291 conv2d_102\n",
            "292 conv2d_103\n",
            "293 average_pooling2d_8\n",
            "294 conv2d_96\n",
            "295 batch_normalization_91\n",
            "296 batch_normalization_92\n",
            "297 batch_normalization_95\n",
            "298 batch_normalization_96\n",
            "299 conv2d_104\n",
            "300 batch_normalization_89\n",
            "301 activation_87\n",
            "302 activation_88\n",
            "303 activation_91\n",
            "304 activation_92\n",
            "305 batch_normalization_97\n",
            "306 activation_85\n",
            "307 mixed9_1\n",
            "308 concatenate_1\n",
            "309 activation_93\n",
            "310 mixed10\n",
            "311 global_average_pooling2d_5\n",
            "312 dense_10\n",
            "313 dropout_5\n",
            "314 dense_11\n"
          ]
        }
      ]
    },
    {
      "cell_type": "code",
      "source": [
        "for i,layer in enumerate(inres_model.layers):\n",
        "    print(i,layer.name)"
      ],
      "metadata": {
        "id": "59rzwSxrC2PL",
        "colab": {
          "base_uri": "https://localhost:8080/"
        },
        "outputId": "76f61ca0-d10f-46be-ced3-793cbf545efc"
      },
      "execution_count": null,
      "outputs": [
        {
          "output_type": "stream",
          "name": "stdout",
          "text": [
            "0 input_6\n",
            "1 conv2d_105\n",
            "2 batch_normalization_98\n",
            "3 activation_94\n",
            "4 conv2d_106\n",
            "5 batch_normalization_99\n",
            "6 activation_95\n",
            "7 conv2d_107\n",
            "8 batch_normalization_100\n",
            "9 activation_96\n",
            "10 max_pooling2d_6\n",
            "11 conv2d_108\n",
            "12 batch_normalization_101\n",
            "13 activation_97\n",
            "14 conv2d_109\n",
            "15 batch_normalization_102\n",
            "16 activation_98\n",
            "17 max_pooling2d_7\n",
            "18 conv2d_113\n",
            "19 batch_normalization_106\n",
            "20 activation_102\n",
            "21 conv2d_111\n",
            "22 conv2d_114\n",
            "23 batch_normalization_104\n",
            "24 batch_normalization_107\n",
            "25 activation_100\n",
            "26 activation_103\n",
            "27 average_pooling2d_9\n",
            "28 conv2d_110\n",
            "29 conv2d_112\n",
            "30 conv2d_115\n",
            "31 conv2d_116\n",
            "32 batch_normalization_103\n",
            "33 batch_normalization_105\n",
            "34 batch_normalization_108\n",
            "35 batch_normalization_109\n",
            "36 activation_99\n",
            "37 activation_101\n",
            "38 activation_104\n",
            "39 activation_105\n",
            "40 mixed_5b\n",
            "41 conv2d_120\n",
            "42 batch_normalization_113\n",
            "43 activation_109\n",
            "44 conv2d_118\n",
            "45 conv2d_121\n",
            "46 batch_normalization_111\n",
            "47 batch_normalization_114\n",
            "48 activation_107\n",
            "49 activation_110\n",
            "50 conv2d_117\n",
            "51 conv2d_119\n",
            "52 conv2d_122\n",
            "53 batch_normalization_110\n",
            "54 batch_normalization_112\n",
            "55 batch_normalization_115\n",
            "56 activation_106\n",
            "57 activation_108\n",
            "58 activation_111\n",
            "59 block35_1_mixed\n",
            "60 block35_1_conv\n",
            "61 custom_scale_layer\n",
            "62 block35_1_ac\n",
            "63 conv2d_126\n",
            "64 batch_normalization_119\n",
            "65 activation_115\n",
            "66 conv2d_124\n",
            "67 conv2d_127\n",
            "68 batch_normalization_117\n",
            "69 batch_normalization_120\n",
            "70 activation_113\n",
            "71 activation_116\n",
            "72 conv2d_123\n",
            "73 conv2d_125\n",
            "74 conv2d_128\n",
            "75 batch_normalization_116\n",
            "76 batch_normalization_118\n",
            "77 batch_normalization_121\n",
            "78 activation_112\n",
            "79 activation_114\n",
            "80 activation_117\n",
            "81 block35_2_mixed\n",
            "82 block35_2_conv\n",
            "83 custom_scale_layer_1\n",
            "84 block35_2_ac\n",
            "85 conv2d_132\n",
            "86 batch_normalization_125\n",
            "87 activation_121\n",
            "88 conv2d_130\n",
            "89 conv2d_133\n",
            "90 batch_normalization_123\n",
            "91 batch_normalization_126\n",
            "92 activation_119\n",
            "93 activation_122\n",
            "94 conv2d_129\n",
            "95 conv2d_131\n",
            "96 conv2d_134\n",
            "97 batch_normalization_122\n",
            "98 batch_normalization_124\n",
            "99 batch_normalization_127\n",
            "100 activation_118\n",
            "101 activation_120\n",
            "102 activation_123\n",
            "103 block35_3_mixed\n",
            "104 block35_3_conv\n",
            "105 custom_scale_layer_2\n",
            "106 block35_3_ac\n",
            "107 conv2d_138\n",
            "108 batch_normalization_131\n",
            "109 activation_127\n",
            "110 conv2d_136\n",
            "111 conv2d_139\n",
            "112 batch_normalization_129\n",
            "113 batch_normalization_132\n",
            "114 activation_125\n",
            "115 activation_128\n",
            "116 conv2d_135\n",
            "117 conv2d_137\n",
            "118 conv2d_140\n",
            "119 batch_normalization_128\n",
            "120 batch_normalization_130\n",
            "121 batch_normalization_133\n",
            "122 activation_124\n",
            "123 activation_126\n",
            "124 activation_129\n",
            "125 block35_4_mixed\n",
            "126 block35_4_conv\n",
            "127 custom_scale_layer_3\n",
            "128 block35_4_ac\n",
            "129 conv2d_144\n",
            "130 batch_normalization_137\n",
            "131 activation_133\n",
            "132 conv2d_142\n",
            "133 conv2d_145\n",
            "134 batch_normalization_135\n",
            "135 batch_normalization_138\n",
            "136 activation_131\n",
            "137 activation_134\n",
            "138 conv2d_141\n",
            "139 conv2d_143\n",
            "140 conv2d_146\n",
            "141 batch_normalization_134\n",
            "142 batch_normalization_136\n",
            "143 batch_normalization_139\n",
            "144 activation_130\n",
            "145 activation_132\n",
            "146 activation_135\n",
            "147 block35_5_mixed\n",
            "148 block35_5_conv\n",
            "149 custom_scale_layer_4\n",
            "150 block35_5_ac\n",
            "151 conv2d_150\n",
            "152 batch_normalization_143\n",
            "153 activation_139\n",
            "154 conv2d_148\n",
            "155 conv2d_151\n",
            "156 batch_normalization_141\n",
            "157 batch_normalization_144\n",
            "158 activation_137\n",
            "159 activation_140\n",
            "160 conv2d_147\n",
            "161 conv2d_149\n",
            "162 conv2d_152\n",
            "163 batch_normalization_140\n",
            "164 batch_normalization_142\n",
            "165 batch_normalization_145\n",
            "166 activation_136\n",
            "167 activation_138\n",
            "168 activation_141\n",
            "169 block35_6_mixed\n",
            "170 block35_6_conv\n",
            "171 custom_scale_layer_5\n",
            "172 block35_6_ac\n",
            "173 conv2d_156\n",
            "174 batch_normalization_149\n",
            "175 activation_145\n",
            "176 conv2d_154\n",
            "177 conv2d_157\n",
            "178 batch_normalization_147\n",
            "179 batch_normalization_150\n",
            "180 activation_143\n",
            "181 activation_146\n",
            "182 conv2d_153\n",
            "183 conv2d_155\n",
            "184 conv2d_158\n",
            "185 batch_normalization_146\n",
            "186 batch_normalization_148\n",
            "187 batch_normalization_151\n",
            "188 activation_142\n",
            "189 activation_144\n",
            "190 activation_147\n",
            "191 block35_7_mixed\n",
            "192 block35_7_conv\n",
            "193 custom_scale_layer_6\n",
            "194 block35_7_ac\n",
            "195 conv2d_162\n",
            "196 batch_normalization_155\n",
            "197 activation_151\n",
            "198 conv2d_160\n",
            "199 conv2d_163\n",
            "200 batch_normalization_153\n",
            "201 batch_normalization_156\n",
            "202 activation_149\n",
            "203 activation_152\n",
            "204 conv2d_159\n",
            "205 conv2d_161\n",
            "206 conv2d_164\n",
            "207 batch_normalization_152\n",
            "208 batch_normalization_154\n",
            "209 batch_normalization_157\n",
            "210 activation_148\n",
            "211 activation_150\n",
            "212 activation_153\n",
            "213 block35_8_mixed\n",
            "214 block35_8_conv\n",
            "215 custom_scale_layer_7\n",
            "216 block35_8_ac\n",
            "217 conv2d_168\n",
            "218 batch_normalization_161\n",
            "219 activation_157\n",
            "220 conv2d_166\n",
            "221 conv2d_169\n",
            "222 batch_normalization_159\n",
            "223 batch_normalization_162\n",
            "224 activation_155\n",
            "225 activation_158\n",
            "226 conv2d_165\n",
            "227 conv2d_167\n",
            "228 conv2d_170\n",
            "229 batch_normalization_158\n",
            "230 batch_normalization_160\n",
            "231 batch_normalization_163\n",
            "232 activation_154\n",
            "233 activation_156\n",
            "234 activation_159\n",
            "235 block35_9_mixed\n",
            "236 block35_9_conv\n",
            "237 custom_scale_layer_8\n",
            "238 block35_9_ac\n",
            "239 conv2d_174\n",
            "240 batch_normalization_167\n",
            "241 activation_163\n",
            "242 conv2d_172\n",
            "243 conv2d_175\n",
            "244 batch_normalization_165\n",
            "245 batch_normalization_168\n",
            "246 activation_161\n",
            "247 activation_164\n",
            "248 conv2d_171\n",
            "249 conv2d_173\n",
            "250 conv2d_176\n",
            "251 batch_normalization_164\n",
            "252 batch_normalization_166\n",
            "253 batch_normalization_169\n",
            "254 activation_160\n",
            "255 activation_162\n",
            "256 activation_165\n",
            "257 block35_10_mixed\n",
            "258 block35_10_conv\n",
            "259 custom_scale_layer_9\n",
            "260 block35_10_ac\n",
            "261 conv2d_178\n",
            "262 batch_normalization_171\n",
            "263 activation_167\n",
            "264 conv2d_179\n",
            "265 batch_normalization_172\n",
            "266 activation_168\n",
            "267 conv2d_177\n",
            "268 conv2d_180\n",
            "269 batch_normalization_170\n",
            "270 batch_normalization_173\n",
            "271 activation_166\n",
            "272 activation_169\n",
            "273 max_pooling2d_8\n",
            "274 mixed_6a\n",
            "275 conv2d_182\n",
            "276 batch_normalization_175\n",
            "277 activation_171\n",
            "278 conv2d_183\n",
            "279 batch_normalization_176\n",
            "280 activation_172\n",
            "281 conv2d_181\n",
            "282 conv2d_184\n",
            "283 batch_normalization_174\n",
            "284 batch_normalization_177\n",
            "285 activation_170\n",
            "286 activation_173\n",
            "287 block17_1_mixed\n",
            "288 block17_1_conv\n",
            "289 custom_scale_layer_10\n",
            "290 block17_1_ac\n",
            "291 conv2d_186\n",
            "292 batch_normalization_179\n",
            "293 activation_175\n",
            "294 conv2d_187\n",
            "295 batch_normalization_180\n",
            "296 activation_176\n",
            "297 conv2d_185\n",
            "298 conv2d_188\n",
            "299 batch_normalization_178\n",
            "300 batch_normalization_181\n",
            "301 activation_174\n",
            "302 activation_177\n",
            "303 block17_2_mixed\n",
            "304 block17_2_conv\n",
            "305 custom_scale_layer_11\n",
            "306 block17_2_ac\n",
            "307 conv2d_190\n",
            "308 batch_normalization_183\n",
            "309 activation_179\n",
            "310 conv2d_191\n",
            "311 batch_normalization_184\n",
            "312 activation_180\n",
            "313 conv2d_189\n",
            "314 conv2d_192\n",
            "315 batch_normalization_182\n",
            "316 batch_normalization_185\n",
            "317 activation_178\n",
            "318 activation_181\n",
            "319 block17_3_mixed\n",
            "320 block17_3_conv\n",
            "321 custom_scale_layer_12\n",
            "322 block17_3_ac\n",
            "323 conv2d_194\n",
            "324 batch_normalization_187\n",
            "325 activation_183\n",
            "326 conv2d_195\n",
            "327 batch_normalization_188\n",
            "328 activation_184\n",
            "329 conv2d_193\n",
            "330 conv2d_196\n",
            "331 batch_normalization_186\n",
            "332 batch_normalization_189\n",
            "333 activation_182\n",
            "334 activation_185\n",
            "335 block17_4_mixed\n",
            "336 block17_4_conv\n",
            "337 custom_scale_layer_13\n",
            "338 block17_4_ac\n",
            "339 conv2d_198\n",
            "340 batch_normalization_191\n",
            "341 activation_187\n",
            "342 conv2d_199\n",
            "343 batch_normalization_192\n",
            "344 activation_188\n",
            "345 conv2d_197\n",
            "346 conv2d_200\n",
            "347 batch_normalization_190\n",
            "348 batch_normalization_193\n",
            "349 activation_186\n",
            "350 activation_189\n",
            "351 block17_5_mixed\n",
            "352 block17_5_conv\n",
            "353 custom_scale_layer_14\n",
            "354 block17_5_ac\n",
            "355 conv2d_202\n",
            "356 batch_normalization_195\n",
            "357 activation_191\n",
            "358 conv2d_203\n",
            "359 batch_normalization_196\n",
            "360 activation_192\n",
            "361 conv2d_201\n",
            "362 conv2d_204\n",
            "363 batch_normalization_194\n",
            "364 batch_normalization_197\n",
            "365 activation_190\n",
            "366 activation_193\n",
            "367 block17_6_mixed\n",
            "368 block17_6_conv\n",
            "369 custom_scale_layer_15\n",
            "370 block17_6_ac\n",
            "371 conv2d_206\n",
            "372 batch_normalization_199\n",
            "373 activation_195\n",
            "374 conv2d_207\n",
            "375 batch_normalization_200\n",
            "376 activation_196\n",
            "377 conv2d_205\n",
            "378 conv2d_208\n",
            "379 batch_normalization_198\n",
            "380 batch_normalization_201\n",
            "381 activation_194\n",
            "382 activation_197\n",
            "383 block17_7_mixed\n",
            "384 block17_7_conv\n",
            "385 custom_scale_layer_16\n",
            "386 block17_7_ac\n",
            "387 conv2d_210\n",
            "388 batch_normalization_203\n",
            "389 activation_199\n",
            "390 conv2d_211\n",
            "391 batch_normalization_204\n",
            "392 activation_200\n",
            "393 conv2d_209\n",
            "394 conv2d_212\n",
            "395 batch_normalization_202\n",
            "396 batch_normalization_205\n",
            "397 activation_198\n",
            "398 activation_201\n",
            "399 block17_8_mixed\n",
            "400 block17_8_conv\n",
            "401 custom_scale_layer_17\n",
            "402 block17_8_ac\n",
            "403 conv2d_214\n",
            "404 batch_normalization_207\n",
            "405 activation_203\n",
            "406 conv2d_215\n",
            "407 batch_normalization_208\n",
            "408 activation_204\n",
            "409 conv2d_213\n",
            "410 conv2d_216\n",
            "411 batch_normalization_206\n",
            "412 batch_normalization_209\n",
            "413 activation_202\n",
            "414 activation_205\n",
            "415 block17_9_mixed\n",
            "416 block17_9_conv\n",
            "417 custom_scale_layer_18\n",
            "418 block17_9_ac\n",
            "419 conv2d_218\n",
            "420 batch_normalization_211\n",
            "421 activation_207\n",
            "422 conv2d_219\n",
            "423 batch_normalization_212\n",
            "424 activation_208\n",
            "425 conv2d_217\n",
            "426 conv2d_220\n",
            "427 batch_normalization_210\n",
            "428 batch_normalization_213\n",
            "429 activation_206\n",
            "430 activation_209\n",
            "431 block17_10_mixed\n",
            "432 block17_10_conv\n",
            "433 custom_scale_layer_19\n",
            "434 block17_10_ac\n",
            "435 conv2d_222\n",
            "436 batch_normalization_215\n",
            "437 activation_211\n",
            "438 conv2d_223\n",
            "439 batch_normalization_216\n",
            "440 activation_212\n",
            "441 conv2d_221\n",
            "442 conv2d_224\n",
            "443 batch_normalization_214\n",
            "444 batch_normalization_217\n",
            "445 activation_210\n",
            "446 activation_213\n",
            "447 block17_11_mixed\n",
            "448 block17_11_conv\n",
            "449 custom_scale_layer_20\n",
            "450 block17_11_ac\n",
            "451 conv2d_226\n",
            "452 batch_normalization_219\n",
            "453 activation_215\n",
            "454 conv2d_227\n",
            "455 batch_normalization_220\n",
            "456 activation_216\n",
            "457 conv2d_225\n",
            "458 conv2d_228\n",
            "459 batch_normalization_218\n",
            "460 batch_normalization_221\n",
            "461 activation_214\n",
            "462 activation_217\n",
            "463 block17_12_mixed\n",
            "464 block17_12_conv\n",
            "465 custom_scale_layer_21\n",
            "466 block17_12_ac\n",
            "467 conv2d_230\n",
            "468 batch_normalization_223\n",
            "469 activation_219\n",
            "470 conv2d_231\n",
            "471 batch_normalization_224\n",
            "472 activation_220\n",
            "473 conv2d_229\n",
            "474 conv2d_232\n",
            "475 batch_normalization_222\n",
            "476 batch_normalization_225\n",
            "477 activation_218\n",
            "478 activation_221\n",
            "479 block17_13_mixed\n",
            "480 block17_13_conv\n",
            "481 custom_scale_layer_22\n",
            "482 block17_13_ac\n",
            "483 conv2d_234\n",
            "484 batch_normalization_227\n",
            "485 activation_223\n",
            "486 conv2d_235\n",
            "487 batch_normalization_228\n",
            "488 activation_224\n",
            "489 conv2d_233\n",
            "490 conv2d_236\n",
            "491 batch_normalization_226\n",
            "492 batch_normalization_229\n",
            "493 activation_222\n",
            "494 activation_225\n",
            "495 block17_14_mixed\n",
            "496 block17_14_conv\n",
            "497 custom_scale_layer_23\n",
            "498 block17_14_ac\n",
            "499 conv2d_238\n",
            "500 batch_normalization_231\n",
            "501 activation_227\n",
            "502 conv2d_239\n",
            "503 batch_normalization_232\n",
            "504 activation_228\n",
            "505 conv2d_237\n",
            "506 conv2d_240\n",
            "507 batch_normalization_230\n",
            "508 batch_normalization_233\n",
            "509 activation_226\n",
            "510 activation_229\n",
            "511 block17_15_mixed\n",
            "512 block17_15_conv\n",
            "513 custom_scale_layer_24\n",
            "514 block17_15_ac\n",
            "515 conv2d_242\n",
            "516 batch_normalization_235\n",
            "517 activation_231\n",
            "518 conv2d_243\n",
            "519 batch_normalization_236\n",
            "520 activation_232\n",
            "521 conv2d_241\n",
            "522 conv2d_244\n",
            "523 batch_normalization_234\n",
            "524 batch_normalization_237\n",
            "525 activation_230\n",
            "526 activation_233\n",
            "527 block17_16_mixed\n",
            "528 block17_16_conv\n",
            "529 custom_scale_layer_25\n",
            "530 block17_16_ac\n",
            "531 conv2d_246\n",
            "532 batch_normalization_239\n",
            "533 activation_235\n",
            "534 conv2d_247\n",
            "535 batch_normalization_240\n",
            "536 activation_236\n",
            "537 conv2d_245\n",
            "538 conv2d_248\n",
            "539 batch_normalization_238\n",
            "540 batch_normalization_241\n",
            "541 activation_234\n",
            "542 activation_237\n",
            "543 block17_17_mixed\n",
            "544 block17_17_conv\n",
            "545 custom_scale_layer_26\n",
            "546 block17_17_ac\n",
            "547 conv2d_250\n",
            "548 batch_normalization_243\n",
            "549 activation_239\n",
            "550 conv2d_251\n",
            "551 batch_normalization_244\n",
            "552 activation_240\n",
            "553 conv2d_249\n",
            "554 conv2d_252\n",
            "555 batch_normalization_242\n",
            "556 batch_normalization_245\n",
            "557 activation_238\n",
            "558 activation_241\n",
            "559 block17_18_mixed\n",
            "560 block17_18_conv\n",
            "561 custom_scale_layer_27\n",
            "562 block17_18_ac\n",
            "563 conv2d_254\n",
            "564 batch_normalization_247\n",
            "565 activation_243\n",
            "566 conv2d_255\n",
            "567 batch_normalization_248\n",
            "568 activation_244\n",
            "569 conv2d_253\n",
            "570 conv2d_256\n",
            "571 batch_normalization_246\n",
            "572 batch_normalization_249\n",
            "573 activation_242\n",
            "574 activation_245\n",
            "575 block17_19_mixed\n",
            "576 block17_19_conv\n",
            "577 custom_scale_layer_28\n",
            "578 block17_19_ac\n",
            "579 conv2d_258\n",
            "580 batch_normalization_251\n",
            "581 activation_247\n",
            "582 conv2d_259\n",
            "583 batch_normalization_252\n",
            "584 activation_248\n",
            "585 conv2d_257\n",
            "586 conv2d_260\n",
            "587 batch_normalization_250\n",
            "588 batch_normalization_253\n",
            "589 activation_246\n",
            "590 activation_249\n",
            "591 block17_20_mixed\n",
            "592 block17_20_conv\n",
            "593 custom_scale_layer_29\n",
            "594 block17_20_ac\n",
            "595 conv2d_265\n",
            "596 batch_normalization_258\n",
            "597 activation_254\n",
            "598 conv2d_261\n",
            "599 conv2d_263\n",
            "600 conv2d_266\n",
            "601 batch_normalization_254\n",
            "602 batch_normalization_256\n",
            "603 batch_normalization_259\n",
            "604 activation_250\n",
            "605 activation_252\n",
            "606 activation_255\n",
            "607 conv2d_262\n",
            "608 conv2d_264\n",
            "609 conv2d_267\n",
            "610 batch_normalization_255\n",
            "611 batch_normalization_257\n",
            "612 batch_normalization_260\n",
            "613 activation_251\n",
            "614 activation_253\n",
            "615 activation_256\n",
            "616 max_pooling2d_9\n",
            "617 mixed_7a\n",
            "618 conv2d_269\n",
            "619 batch_normalization_262\n",
            "620 activation_258\n",
            "621 conv2d_270\n",
            "622 batch_normalization_263\n",
            "623 activation_259\n",
            "624 conv2d_268\n",
            "625 conv2d_271\n",
            "626 batch_normalization_261\n",
            "627 batch_normalization_264\n",
            "628 activation_257\n",
            "629 activation_260\n",
            "630 block8_1_mixed\n",
            "631 block8_1_conv\n",
            "632 custom_scale_layer_30\n",
            "633 block8_1_ac\n",
            "634 conv2d_273\n",
            "635 batch_normalization_266\n",
            "636 activation_262\n",
            "637 conv2d_274\n",
            "638 batch_normalization_267\n",
            "639 activation_263\n",
            "640 conv2d_272\n",
            "641 conv2d_275\n",
            "642 batch_normalization_265\n",
            "643 batch_normalization_268\n",
            "644 activation_261\n",
            "645 activation_264\n",
            "646 block8_2_mixed\n",
            "647 block8_2_conv\n",
            "648 custom_scale_layer_31\n",
            "649 block8_2_ac\n",
            "650 conv2d_277\n",
            "651 batch_normalization_270\n",
            "652 activation_266\n",
            "653 conv2d_278\n",
            "654 batch_normalization_271\n",
            "655 activation_267\n",
            "656 conv2d_276\n",
            "657 conv2d_279\n",
            "658 batch_normalization_269\n",
            "659 batch_normalization_272\n",
            "660 activation_265\n",
            "661 activation_268\n",
            "662 block8_3_mixed\n",
            "663 block8_3_conv\n",
            "664 custom_scale_layer_32\n",
            "665 block8_3_ac\n",
            "666 conv2d_281\n",
            "667 batch_normalization_274\n",
            "668 activation_270\n",
            "669 conv2d_282\n",
            "670 batch_normalization_275\n",
            "671 activation_271\n",
            "672 conv2d_280\n",
            "673 conv2d_283\n",
            "674 batch_normalization_273\n",
            "675 batch_normalization_276\n",
            "676 activation_269\n",
            "677 activation_272\n",
            "678 block8_4_mixed\n",
            "679 block8_4_conv\n",
            "680 custom_scale_layer_33\n",
            "681 block8_4_ac\n",
            "682 conv2d_285\n",
            "683 batch_normalization_278\n",
            "684 activation_274\n",
            "685 conv2d_286\n",
            "686 batch_normalization_279\n",
            "687 activation_275\n",
            "688 conv2d_284\n",
            "689 conv2d_287\n",
            "690 batch_normalization_277\n",
            "691 batch_normalization_280\n",
            "692 activation_273\n",
            "693 activation_276\n",
            "694 block8_5_mixed\n",
            "695 block8_5_conv\n",
            "696 custom_scale_layer_34\n",
            "697 block8_5_ac\n",
            "698 conv2d_289\n",
            "699 batch_normalization_282\n",
            "700 activation_278\n",
            "701 conv2d_290\n",
            "702 batch_normalization_283\n",
            "703 activation_279\n",
            "704 conv2d_288\n",
            "705 conv2d_291\n",
            "706 batch_normalization_281\n",
            "707 batch_normalization_284\n",
            "708 activation_277\n",
            "709 activation_280\n",
            "710 block8_6_mixed\n",
            "711 block8_6_conv\n",
            "712 custom_scale_layer_35\n",
            "713 block8_6_ac\n",
            "714 conv2d_293\n",
            "715 batch_normalization_286\n",
            "716 activation_282\n",
            "717 conv2d_294\n",
            "718 batch_normalization_287\n",
            "719 activation_283\n",
            "720 conv2d_292\n",
            "721 conv2d_295\n",
            "722 batch_normalization_285\n",
            "723 batch_normalization_288\n",
            "724 activation_281\n",
            "725 activation_284\n",
            "726 block8_7_mixed\n",
            "727 block8_7_conv\n",
            "728 custom_scale_layer_36\n",
            "729 block8_7_ac\n",
            "730 conv2d_297\n",
            "731 batch_normalization_290\n",
            "732 activation_286\n",
            "733 conv2d_298\n",
            "734 batch_normalization_291\n",
            "735 activation_287\n",
            "736 conv2d_296\n",
            "737 conv2d_299\n",
            "738 batch_normalization_289\n",
            "739 batch_normalization_292\n",
            "740 activation_285\n",
            "741 activation_288\n",
            "742 block8_8_mixed\n",
            "743 block8_8_conv\n",
            "744 custom_scale_layer_37\n",
            "745 block8_8_ac\n",
            "746 conv2d_301\n",
            "747 batch_normalization_294\n",
            "748 activation_290\n",
            "749 conv2d_302\n",
            "750 batch_normalization_295\n",
            "751 activation_291\n",
            "752 conv2d_300\n",
            "753 conv2d_303\n",
            "754 batch_normalization_293\n",
            "755 batch_normalization_296\n",
            "756 activation_289\n",
            "757 activation_292\n",
            "758 block8_9_mixed\n",
            "759 block8_9_conv\n",
            "760 custom_scale_layer_38\n",
            "761 block8_9_ac\n",
            "762 conv2d_305\n",
            "763 batch_normalization_298\n",
            "764 activation_294\n",
            "765 conv2d_306\n",
            "766 batch_normalization_299\n",
            "767 activation_295\n",
            "768 conv2d_304\n",
            "769 conv2d_307\n",
            "770 batch_normalization_297\n",
            "771 batch_normalization_300\n",
            "772 activation_293\n",
            "773 activation_296\n",
            "774 block8_10_mixed\n",
            "775 block8_10_conv\n",
            "776 custom_scale_layer_39\n",
            "777 conv_7b\n",
            "778 conv_7b_bn\n",
            "779 conv_7b_ac\n",
            "780 global_average_pooling2d_6\n",
            "781 dense_12\n",
            "782 dropout_6\n",
            "783 dense_13\n"
          ]
        }
      ]
    },
    {
      "cell_type": "code",
      "source": [
        "model1=Model(inputs=[xception_model.layers[0].get_input_at(0)],outputs=xception_model.get_layer('dense_3').output,name='xception')\n",
        "model2=Model(inputs=[vgg_model.layers[0].get_input_at(0)],outputs=vgg_model.get_layer('dense_15').output,name='vgg')\n",
        "model3=Model(inputs=[vgg19_model.layers[0].get_input_at(0)],outputs=vgg19_model.get_layer('dense_7').output,name='vgg19')\n",
        "model4=Model(inputs=[incep_model.layers[0].get_input_at(0)],outputs=incep_model.get_layer('dense_11').output,name='incep')\n",
        "model5=Model(inputs=[inres_model.layers[0].get_input_at(0)],outputs=inres_model.get_layer('dense_13').output,name='inres')"
      ],
      "metadata": {
        "id": "E9ktXBhUrBJy"
      },
      "execution_count": null,
      "outputs": []
    },
    {
      "cell_type": "code",
      "source": [
        "#plot the figures\n",
        "class LossHistory(keras.callbacks.Callback):\n",
        "    def on_train_begin(self, logs={}):\n",
        "        self.losses = {'batch':[], 'epoch':[]}\n",
        "        self.accuracy = {'batch':[], 'epoch':[]}\n",
        "        self.val_loss = {'batch':[], 'epoch':[]}\n",
        "        self.val_acc = {'batch':[], 'epoch':[]}\n",
        "    def on_batch_end(self, batch, logs={}):\n",
        "        self.losses['batch'].append(logs.get('loss'))\n",
        "        self.accuracy['batch'].append(logs.get('acc'))\n",
        "        self.val_loss['batch'].append(logs.get('val_loss'))\n",
        "        self.val_acc['batch'].append(logs.get('val_acc'))\n",
        "    def on_epoch_end(self, batch, logs={}):\n",
        "        self.losses['epoch'].append(logs.get('loss'))\n",
        "        self.accuracy['epoch'].append(logs.get('acc'))\n",
        "        self.val_loss['epoch'].append(logs.get('val_loss'))\n",
        "        self.val_acc['epoch'].append(logs.get('val_acc'))\n",
        "    def loss_plot(self, loss_type):\n",
        "        iters = range(len(self.losses[loss_type]))\n",
        "        plt.figure()\n",
        "        plt.plot(iters, self.losses[loss_type], 'g', label='train loss')\n",
        "        if loss_type == 'epoch':\n",
        "            # acc\n",
        "            plt.plot(iters, self.accuracy[loss_type], 'r', label='train acc')\n",
        "            # loss\n",
        "            plt.plot(iters, self.losses[loss_type], 'g', label='train loss')\n",
        "            # val_acc\n",
        "            plt.plot(iters, self.val_acc[loss_type], 'b', label='val acc')\n",
        "            # val_loss\n",
        "            plt.plot(iters, self.val_loss[loss_type], 'k', label='val loss')\n",
        "        plt.grid(True)\n",
        "        plt.xlabel(loss_type)\n",
        "        plt.ylabel('acc-loss')\n",
        "        plt.legend(loc=\"upper right\")\n",
        "        plt.show()"
      ],
      "metadata": {
        "id": "egwIGgf2rKf9"
      },
      "execution_count": null,
      "outputs": []
    },
    {
      "cell_type": "code",
      "source": [
        "ensemble_history= LossHistory()"
      ],
      "metadata": {
        "id": "EkvGQpppBjgf"
      },
      "execution_count": null,
      "outputs": []
    },
    {
      "cell_type": "code",
      "source": [
        "#generate training and test images\n",
        "TARGET_SIZE=(224,224)\n",
        "INPUT_SIZE=(224,224,3)\n",
        "BATCHSIZE=128\t#could try 128 or 32\n",
        "\n",
        "#Normalization\n",
        "train_datagen = ImageDataGenerator(rescale=1./255)\n",
        "\n",
        "test_datagen = ImageDataGenerator(rescale=1./255)\n",
        "\n",
        "train_generator = train_datagen.flow_from_directory(\n",
        "        './train_224/',\n",
        "        target_size=TARGET_SIZE,\n",
        "        batch_size=BATCHSIZE,\n",
        "        class_mode='categorical')\n",
        "validation_generator = test_datagen.flow_from_directory(\n",
        "        './test_224/',\n",
        "        target_size=TARGET_SIZE,\n",
        "        batch_size=BATCHSIZE,\n",
        "        class_mode='categorical')"
      ],
      "metadata": {
        "colab": {
          "base_uri": "https://localhost:8080/"
        },
        "id": "-j6AUJ8tBlvq",
        "outputId": "13acfe4d-5ef1-4ecb-c01f-d0f2a20e83b1"
      },
      "execution_count": null,
      "outputs": [
        {
          "output_type": "stream",
          "name": "stdout",
          "text": [
            "Found 23383 images belonging to 5 classes.\n",
            "Found 5845 images belonging to 5 classes.\n"
          ]
        }
      ]
    },
    {
      "cell_type": "code",
      "source": [
        "def lr_decay(epoch):\n",
        "    lrs = [0.001, 0.001, 0.001, 0.001, 0.001, 0.001, 0.001\n",
        "          ]\n",
        "    return lrs[epoch]"
      ],
      "metadata": {
        "id": "qdhxG5qlB5fA"
      },
      "execution_count": null,
      "outputs": []
    },
    {
      "cell_type": "code",
      "source": [
        "auto_lr = ReduceLROnPlateau(monitor='val_loss', factor=0.1, patience=1, verbose=0, mode='auto', epsilon=0.0001, cooldown=0, min_lr=0)\n",
        "my_lr = LearningRateScheduler(lr_decay)"
      ],
      "metadata": {
        "colab": {
          "base_uri": "https://localhost:8080/"
        },
        "id": "XlwHPYGNCEfn",
        "outputId": "1953b49a-61b3-4894-887f-84c3b99956cf"
      },
      "execution_count": null,
      "outputs": [
        {
          "output_type": "stream",
          "name": "stderr",
          "text": [
            "WARNING:tensorflow:`epsilon` argument is deprecated and will be removed, use `min_delta` instead.\n"
          ]
        }
      ]
    },
    {
      "cell_type": "code",
      "source": [
        "from tensorflow.keras.layers import Input\n",
        "def ensemble(num_class,epochs):\n",
        "    img=Input(shape=(224,224,3),name='img')\n",
        "    feature1=model1(img)\n",
        "    feature2=model2(img)\n",
        "    feature3=model3(img)\n",
        "    x=concatenate([feature1,feature2,feature3],name='c')\n",
        "    x1=Dropout(0.5,name='co')(x)\n",
        "    x2=Dense(64,activation='relu',name='con')(x1)\n",
        "    x3=Dropout(0.25,name='conv')(x2)\n",
        "    output_esn=Dense(num_class,activation='softmax',name='output_esn')(x3)\n",
        "    model=Model(inputs=img,outputs=output_esn)\n",
        "    opt = keras.optimizers.Adam(lr=0.001, beta_1=0.9, beta_2=0.999, epsilon=1e-08)\n",
        "    model.compile(loss='categorical_crossentropy',\n",
        "                  optimizer=opt,\n",
        "                  metrics=['accuracy'])\n",
        "    #train model\n",
        "    earlyStopping=kcallbacks.EarlyStopping(monitor='val_acc',patience=2, verbose=1, mode='auto')\n",
        "    saveBestModel = kcallbacks.ModelCheckpoint(filepath=\"ensemble.hdf5\", monitor='val_acc', verbose=1, save_best_only=True, mode='auto')\n",
        "    hist=model.fit_generator(\n",
        "        train_generator,\n",
        "        steps_per_epoch=len(train_generator),\n",
        "        epochs=epochs,\n",
        "        validation_data=validation_generator,\n",
        "        validation_steps=len(validation_generator),\n",
        "        callbacks=[earlyStopping,saveBestModel,ensemble_history,auto_lr],\n",
        "    )\n",
        "    print(\"Hello\")\n",
        "    model.save(\"ensemble_1.hdf5\")\n",
        "    print(\"He\")"
      ],
      "metadata": {
        "id": "-woWxAabCGIM"
      },
      "execution_count": null,
      "outputs": []
    },
    {
      "cell_type": "code",
      "source": [
        "# ensemble_model\n",
        "ensemble(num_class=5,epochs=1)\n",
        "# ensemble_model=load_model(\"ensemble_1.h5.\")"
      ],
      "metadata": {
        "colab": {
          "base_uri": "https://localhost:8080/"
        },
        "id": "vyxk26OLCIAk",
        "outputId": "fb12ca0f-aa91-4a6b-96bc-ef8fdac35898"
      },
      "execution_count": null,
      "outputs": [
        {
          "output_type": "stream",
          "name": "stdout",
          "text": [
            "183/183 [==============================] - ETA: 0s - loss: 0.5955 - accuracy: 0.8509"
          ]
        },
        {
          "output_type": "stream",
          "name": "stderr",
          "text": [
            "WARNING:tensorflow:Early stopping conditioned on metric `val_acc` which is not available. Available metrics are: loss,accuracy,val_loss,val_accuracy\n",
            "WARNING:tensorflow:Can save best model only with val_acc available, skipping.\n"
          ]
        },
        {
          "output_type": "stream",
          "name": "stdout",
          "text": [
            "\b\b\b\b\b\b\b\b\b\b\b\b\b\b\b\b\b\b\b\b\b\b\b\b\b\b\b\b\b\b\b\b\b\b\b\b\b\b\b\b\b\b\b\b\b\b\b\b\b\b\b\b\b\b\b\b\b\b\b\b\b\b\b\b\b\b\b\b\b\b\b\b\b\b\b\b\b\b\b\b\b\b\b\b\r183/183 [==============================] - 408s 2s/step - loss: 0.5955 - accuracy: 0.8509 - val_loss: 0.1161 - val_accuracy: 0.9704 - lr: 0.0010\n",
            "Hello\n",
            "He\n"
          ]
        }
      ]
    },
    {
      "cell_type": "code",
      "source": [
        "#read images from validation folder\n",
        "rootdir = './test_224/'\n",
        "test_laels = []\n",
        "test_images=[]\n",
        "for subdir, dirs, files in os.walk(rootdir):\n",
        "    for file in files:\n",
        "        if not (file.endswith(\".jpeg\"))|(file.endswith(\".jpg\"))|(file.endswith(\".png\")):\n",
        "            continue\n",
        "        test_laels.append(subdir.split('/')[-1])\n",
        "        test_images.append(os.path.join(subdir, file))\n",
        "        \n",
        "print(test_laels[0],test_images[0])"
      ],
      "metadata": {
        "colab": {
          "base_uri": "https://localhost:8080/"
        },
        "id": "w7M0AcOQCLEz",
        "outputId": "f7de06ee-cb6f-4c33-8d43-9a456d2790d3"
      },
      "execution_count": null,
      "outputs": [
        {
          "output_type": "stream",
          "name": "stdout",
          "text": [
            "2 ./test_224/2/2631.png\n"
          ]
        }
      ]
    },
    {
      "cell_type": "code",
      "source": [
        "#test the averaging model on the validation set\n",
        "import time\n",
        "predict=[]\n",
        "length=len(test_images)\n",
        "t1 = time.time()\n",
        "for i in range((length//127)+1):\n",
        "    inputimg=test_images[127*i:127*(i+1)]\n",
        "    test_batch=[]\n",
        "    for path in inputimg:\n",
        "        thisimg=np.array(Image.open(path))/255\n",
        "        test_batch.append(thisimg)\n",
        "    #print(i, np.array(test_batch).shape)\n",
        "    ensemble_model_batch = ensemble_model.predict(np.array(test_batch))\n",
        "    predict_batch=list(np.argmax(ensemble_model_batch,axis=1))\n",
        "    predict_batch=[label[con] for con in predict_batch]\n",
        "    predict.append(predict_batch)\n",
        "\n",
        "predict=sum(predict,[])\n",
        "\n",
        "t2 = time.time()\n",
        "print('The testing time is :%f seconds' % (t2-t1))"
      ],
      "metadata": {
        "colab": {
          "base_uri": "https://localhost:8080/"
        },
        "id": "2tOYgaihCMe1",
        "outputId": "49431346-51cf-4e7b-e3e5-921f50113db0"
      },
      "execution_count": null,
      "outputs": [
        {
          "output_type": "stream",
          "name": "stdout",
          "text": [
            "4/4 [==============================] - 0s 91ms/step\n",
            "4/4 [==============================] - 0s 63ms/step\n",
            "4/4 [==============================] - 0s 63ms/step\n",
            "4/4 [==============================] - 0s 63ms/step\n",
            "4/4 [==============================] - 0s 63ms/step\n",
            "4/4 [==============================] - 0s 63ms/step\n",
            "4/4 [==============================] - 0s 63ms/step\n",
            "4/4 [==============================] - 0s 67ms/step\n",
            "4/4 [==============================] - 0s 63ms/step\n",
            "4/4 [==============================] - 0s 63ms/step\n",
            "4/4 [==============================] - 0s 63ms/step\n",
            "4/4 [==============================] - 0s 64ms/step\n",
            "4/4 [==============================] - 0s 63ms/step\n",
            "4/4 [==============================] - 0s 65ms/step\n",
            "4/4 [==============================] - 0s 64ms/step\n",
            "4/4 [==============================] - 0s 64ms/step\n",
            "4/4 [==============================] - 0s 65ms/step\n",
            "4/4 [==============================] - 0s 64ms/step\n",
            "4/4 [==============================] - 0s 64ms/step\n",
            "4/4 [==============================] - 0s 63ms/step\n",
            "4/4 [==============================] - 0s 64ms/step\n",
            "4/4 [==============================] - 0s 63ms/step\n",
            "4/4 [==============================] - 0s 64ms/step\n",
            "4/4 [==============================] - 0s 63ms/step\n",
            "4/4 [==============================] - 0s 64ms/step\n",
            "4/4 [==============================] - 0s 63ms/step\n",
            "4/4 [==============================] - 0s 64ms/step\n",
            "4/4 [==============================] - 0s 64ms/step\n",
            "4/4 [==============================] - 0s 64ms/step\n",
            "4/4 [==============================] - 0s 64ms/step\n",
            "4/4 [==============================] - 0s 65ms/step\n",
            "4/4 [==============================] - 0s 65ms/step\n",
            "4/4 [==============================] - 0s 64ms/step\n",
            "4/4 [==============================] - 0s 68ms/step\n",
            "4/4 [==============================] - 0s 66ms/step\n",
            "4/4 [==============================] - 0s 64ms/step\n",
            "4/4 [==============================] - 0s 64ms/step\n",
            "4/4 [==============================] - 0s 65ms/step\n",
            "4/4 [==============================] - 0s 65ms/step\n",
            "4/4 [==============================] - 0s 64ms/step\n",
            "4/4 [==============================] - 0s 64ms/step\n",
            "4/4 [==============================] - 0s 64ms/step\n",
            "4/4 [==============================] - 0s 66ms/step\n",
            "4/4 [==============================] - 0s 63ms/step\n",
            "4/4 [==============================] - 0s 63ms/step\n",
            "4/4 [==============================] - 0s 64ms/step\n",
            "1/1 [==============================] - 0s 30ms/step\n",
            "The testing time is :36.630351 seconds\n"
          ]
        }
      ]
    },
    {
      "cell_type": "code",
      "source": [
        "from sklearn.metrics import accuracy_score,precision_score,recall_score,f1_score\n",
        "acc=accuracy_score(test_laels,predict)\n",
        "print('Concatenation accuracy:%s'%acc)"
      ],
      "metadata": {
        "id": "GKPgjCFKCOe4",
        "colab": {
          "base_uri": "https://localhost:8080/"
        },
        "outputId": "ead16e88-69c4-408a-d40c-bbb249cef3e2"
      },
      "execution_count": null,
      "outputs": [
        {
          "output_type": "stream",
          "name": "stdout",
          "text": [
            "Concatenation accuracy:0.9621899059024808\n"
          ]
        }
      ]
    },
    {
      "cell_type": "code",
      "source": [
        "from sklearn.metrics import classification_report, confusion_matrix\n",
        "print(confusion_matrix(test_laels, predict))\n",
        "target_names = ['0', '1','2','3','4']\n",
        "print(classification_report(test_laels, predict, target_names=target_names))"
      ],
      "metadata": {
        "id": "VcmxVKboCQKS",
        "colab": {
          "base_uri": "https://localhost:8080/"
        },
        "outputId": "ec43787d-b3eb-443f-e085-7574778300ce"
      },
      "execution_count": null,
      "outputs": [
        {
          "output_type": "stream",
          "name": "stdout",
          "text": [
            "[[5020    0    0    0    0]\n",
            " [   0  230    0    0    0]\n",
            " [   0    0  201    0    0]\n",
            " [ 221    0    0    0    0]\n",
            " [   0    0    0    0  173]]\n",
            "              precision    recall  f1-score   support\n",
            "\n",
            "           0       0.96      1.00      0.98      5020\n",
            "           1       1.00      1.00      1.00       230\n",
            "           2       1.00      1.00      1.00       201\n",
            "           3       0.00      0.00      0.00       221\n",
            "           4       1.00      1.00      1.00       173\n",
            "\n",
            "    accuracy                           0.96      5845\n",
            "   macro avg       0.79      0.80      0.80      5845\n",
            "weighted avg       0.93      0.96      0.94      5845\n",
            "\n"
          ]
        }
      ]
    }
  ],
  "metadata": {
    "accelerator": "GPU",
    "colab": {
      "provenance": []
    },
    "gpuClass": "standard",
    "kernelspec": {
      "display_name": "Python 3",
      "name": "python3"
    },
    "language_info": {
      "name": "python"
    }
  },
  "nbformat": 4,
  "nbformat_minor": 0
}